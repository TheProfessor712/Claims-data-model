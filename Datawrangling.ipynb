{
  "cells": [
    {
      "cell_type": "code",
      "source": [
        "import pandas as pd\r\n",
        "import numpy as np\r\n",
        "from sklearn.impute import SimpleImputer\r\n",
        "from sklearn.impute import KNNImputer"
      ],
      "outputs": [],
      "execution_count": 1,
      "metadata": {
        "gather": {
          "logged": 1686866342911
        }
      }
    },
    {
      "cell_type": "code",
      "source": [
        "df = pd.read_csv('2010_Chronic_Conditions_PUF.csv')\r\n",
        "df.head()"
      ],
      "outputs": [
        {
          "output_type": "execute_result",
          "execution_count": 2,
          "data": {
            "text/plain": "   BENE_SEX_IDENT_CD  BENE_AGE_CAT_CD  CC_ALZHDMTA  CC_CANCER  CC_CHF  \\\n0                  1                1          NaN        NaN       0   \n1                  1                1          NaN        NaN       0   \n2                  1                1          NaN        NaN       0   \n3                  1                1          NaN        NaN       0   \n4                  1                1          NaN        NaN       0   \n\n   CC_CHRNKIDN  CC_COPD  CC_DEPRESSN  CC_DIABETES  CC_ISCHMCHT  ...  \\\n0            0      NaN          NaN            0            0  ...   \n1            0      NaN          NaN            0            0  ...   \n2            0      NaN          NaN            0            0  ...   \n3            0      NaN          NaN            0            0  ...   \n4            0      NaN          NaN            0            1  ...   \n\n   BENE_COUNT_PC_LT_12  AVE_MO_EN_PC_LT_12  BENE_COUNT_PC_EQ_12  \\\n0                  NaN                 NaN                  NaN   \n1                  NaN                 NaN                  NaN   \n2                  NaN                 NaN                  NaN   \n3                  NaN                 NaN                  NaN   \n4                  NaN                 NaN                  NaN   \n\n   BENE_COUNT_PD_LT_12  AVE_MO_EN_PD_LT_12  AVE_PDE_CST_PD_LT_12  \\\n0                  NaN                 NaN                   NaN   \n1                 42.0               5.952                2165.0   \n2                  NaN                 NaN                   NaN   \n3                  NaN                 NaN                   NaN   \n4                  NaN                 NaN                   NaN   \n\n   AVE_PDE_PD_LT_12  BENE_COUNT_PD_EQ_12  AVE_PDE_CST_PD_EQ_12  \\\n0               NaN                 65.0                7230.0   \n1             24.81                203.0                7163.0   \n2               NaN                104.0                4007.0   \n3               NaN                209.0                9021.0   \n4               NaN                 66.0                5925.0   \n\n   AVE_PDE_PD_EQ_12  \n0            49.877  \n1            73.404  \n2            51.481  \n3            75.732  \n4            61.591  \n\n[5 rows x 55 columns]",
            "text/html": "<div>\n<style scoped>\n    .dataframe tbody tr th:only-of-type {\n        vertical-align: middle;\n    }\n\n    .dataframe tbody tr th {\n        vertical-align: top;\n    }\n\n    .dataframe thead th {\n        text-align: right;\n    }\n</style>\n<table border=\"1\" class=\"dataframe\">\n  <thead>\n    <tr style=\"text-align: right;\">\n      <th></th>\n      <th>BENE_SEX_IDENT_CD</th>\n      <th>BENE_AGE_CAT_CD</th>\n      <th>CC_ALZHDMTA</th>\n      <th>CC_CANCER</th>\n      <th>CC_CHF</th>\n      <th>CC_CHRNKIDN</th>\n      <th>CC_COPD</th>\n      <th>CC_DEPRESSN</th>\n      <th>CC_DIABETES</th>\n      <th>CC_ISCHMCHT</th>\n      <th>...</th>\n      <th>BENE_COUNT_PC_LT_12</th>\n      <th>AVE_MO_EN_PC_LT_12</th>\n      <th>BENE_COUNT_PC_EQ_12</th>\n      <th>BENE_COUNT_PD_LT_12</th>\n      <th>AVE_MO_EN_PD_LT_12</th>\n      <th>AVE_PDE_CST_PD_LT_12</th>\n      <th>AVE_PDE_PD_LT_12</th>\n      <th>BENE_COUNT_PD_EQ_12</th>\n      <th>AVE_PDE_CST_PD_EQ_12</th>\n      <th>AVE_PDE_PD_EQ_12</th>\n    </tr>\n  </thead>\n  <tbody>\n    <tr>\n      <th>0</th>\n      <td>1</td>\n      <td>1</td>\n      <td>NaN</td>\n      <td>NaN</td>\n      <td>0</td>\n      <td>0</td>\n      <td>NaN</td>\n      <td>NaN</td>\n      <td>0</td>\n      <td>0</td>\n      <td>...</td>\n      <td>NaN</td>\n      <td>NaN</td>\n      <td>NaN</td>\n      <td>NaN</td>\n      <td>NaN</td>\n      <td>NaN</td>\n      <td>NaN</td>\n      <td>65.0</td>\n      <td>7230.0</td>\n      <td>49.877</td>\n    </tr>\n    <tr>\n      <th>1</th>\n      <td>1</td>\n      <td>1</td>\n      <td>NaN</td>\n      <td>NaN</td>\n      <td>0</td>\n      <td>0</td>\n      <td>NaN</td>\n      <td>NaN</td>\n      <td>0</td>\n      <td>0</td>\n      <td>...</td>\n      <td>NaN</td>\n      <td>NaN</td>\n      <td>NaN</td>\n      <td>42.0</td>\n      <td>5.952</td>\n      <td>2165.0</td>\n      <td>24.81</td>\n      <td>203.0</td>\n      <td>7163.0</td>\n      <td>73.404</td>\n    </tr>\n    <tr>\n      <th>2</th>\n      <td>1</td>\n      <td>1</td>\n      <td>NaN</td>\n      <td>NaN</td>\n      <td>0</td>\n      <td>0</td>\n      <td>NaN</td>\n      <td>NaN</td>\n      <td>0</td>\n      <td>0</td>\n      <td>...</td>\n      <td>NaN</td>\n      <td>NaN</td>\n      <td>NaN</td>\n      <td>NaN</td>\n      <td>NaN</td>\n      <td>NaN</td>\n      <td>NaN</td>\n      <td>104.0</td>\n      <td>4007.0</td>\n      <td>51.481</td>\n    </tr>\n    <tr>\n      <th>3</th>\n      <td>1</td>\n      <td>1</td>\n      <td>NaN</td>\n      <td>NaN</td>\n      <td>0</td>\n      <td>0</td>\n      <td>NaN</td>\n      <td>NaN</td>\n      <td>0</td>\n      <td>0</td>\n      <td>...</td>\n      <td>NaN</td>\n      <td>NaN</td>\n      <td>NaN</td>\n      <td>NaN</td>\n      <td>NaN</td>\n      <td>NaN</td>\n      <td>NaN</td>\n      <td>209.0</td>\n      <td>9021.0</td>\n      <td>75.732</td>\n    </tr>\n    <tr>\n      <th>4</th>\n      <td>1</td>\n      <td>1</td>\n      <td>NaN</td>\n      <td>NaN</td>\n      <td>0</td>\n      <td>0</td>\n      <td>NaN</td>\n      <td>NaN</td>\n      <td>0</td>\n      <td>1</td>\n      <td>...</td>\n      <td>NaN</td>\n      <td>NaN</td>\n      <td>NaN</td>\n      <td>NaN</td>\n      <td>NaN</td>\n      <td>NaN</td>\n      <td>NaN</td>\n      <td>66.0</td>\n      <td>5925.0</td>\n      <td>61.591</td>\n    </tr>\n  </tbody>\n</table>\n<p>5 rows × 55 columns</p>\n</div>"
          },
          "metadata": {}
        }
      ],
      "execution_count": 2,
      "metadata": {
        "jupyter": {
          "source_hidden": false,
          "outputs_hidden": false
        },
        "nteract": {
          "transient": {
            "deleting": false
          }
        },
        "gather": {
          "logged": 1686866345455
        }
      }
    },
    {
      "cell_type": "markdown",
      "source": [
        "We will be looking at claims data from 2010 on Chronic Conditions. The data is PUF from the Center for Medicare and Medicaid Services. The link is provided below:\r\n",
        "\r\n",
        "https://www.cms.gov/Research-Statistics-Data-and-Systems/Downloadable-Public-Use-Files/BSAPUFS/Chronic_Conditions_PUF"
      ],
      "metadata": {
        "nteract": {
          "transient": {
            "deleting": false
          }
        }
      }
    },
    {
      "cell_type": "markdown",
      "source": [
        "First we do some investigating of the dataset itself."
      ],
      "metadata": {
        "nteract": {
          "transient": {
            "deleting": false
          }
        }
      }
    },
    {
      "cell_type": "code",
      "source": [
        "df.shape"
      ],
      "outputs": [
        {
          "output_type": "execute_result",
          "execution_count": 3,
          "data": {
            "text/plain": "(22003, 55)"
          },
          "metadata": {}
        }
      ],
      "execution_count": 3,
      "metadata": {
        "jupyter": {
          "source_hidden": false,
          "outputs_hidden": false
        },
        "nteract": {
          "transient": {
            "deleting": false
          }
        },
        "gather": {
          "logged": 1686866349495
        }
      }
    },
    {
      "cell_type": "code",
      "source": [
        "df.isnull().sum()/df.shape[0]*100"
      ],
      "outputs": [
        {
          "output_type": "execute_result",
          "execution_count": 4,
          "data": {
            "text/plain": "BENE_SEX_IDENT_CD         0.000000\nBENE_AGE_CAT_CD           0.000000\nCC_ALZHDMTA               3.490433\nCC_CANCER                 3.490433\nCC_CHF                    0.000000\nCC_CHRNKIDN               0.000000\nCC_COPD                   3.490433\nCC_DEPRESSN               3.490433\nCC_DIABETES               0.000000\nCC_ISCHMCHT               0.000000\nCC_OSTEOPRS               3.490433\nCC_RA_OA                  0.000000\nCC_STRKETIA               3.490433\nCC_2_OR_MORE              0.000000\nDUAL_STUS                 0.000000\nBENE_COUNT_PA_LT_12      59.710040\nAVE_MO_EN_PA_LT_12       59.710040\nAVE_PA_PAY_PA_LT_12      60.228151\nAVE_IP_PAY_PA_LT_12      64.323047\nAVE_SNF_PAY_PA_LT_12     70.231332\nAVE_OTH_PAY_PA_LT_12     70.231332\nAVE_IP_ADM_PA_LT_12      64.323047\nAVE_SNF_DAYS_PA_LT_12    70.231332\nBENE_COUNT_PA_EQ_12       7.580784\nAVE_PA_PAY_PA_EQ_12       8.489751\nAVE_IP_PAY_PA_EQ_12      20.778985\nAVE_SNF_PAY_PA_EQ_12     36.426851\nAVE_OTH_PAY_PA_EQ_12     36.426851\nAVE_IP_ADM_PA_EQ_12      20.778985\nAVE_SNF_DAYS_PA_EQ_12    36.426851\nBENE_COUNT_PB_LT_12      59.110121\nAVE_MO_EN_PB_LT_12       59.110121\nAVE_PB_PAY_PB_LT_12      59.110121\nAVE_CA_PAY_PB_LT_12      59.110121\nAVE_OP_PAY_PB_LT_12      60.673545\nAVE_OTH_PAY_PB_LT_12     60.673545\nAVE_CA_VST_PB_LT_12      59.110121\nAVE_OP_VST_PB_LT_12      60.673545\nBENE_COUNT_PB_EQ_12       7.144480\nAVE_PB_PAY_PB_EQ_12       7.144480\nAVE_CA_PAY_PB_EQ_12       7.144480\nAVE_OP_PAY_PB_EQ_12       7.808026\nAVE_OTH_PAY_PB_EQ_12      7.808026\nAVE_CA_VST_PB_EQ_12       7.144480\nAVE_OP_VST_PB_EQ_12       7.808026\nBENE_COUNT_PC_LT_12      88.642458\nAVE_MO_EN_PC_LT_12       88.642458\nBENE_COUNT_PC_EQ_12      90.969413\nBENE_COUNT_PD_LT_12      66.749989\nAVE_MO_EN_PD_LT_12       66.749989\nAVE_PDE_CST_PD_LT_12     66.749989\nAVE_PDE_PD_LT_12         66.749989\nBENE_COUNT_PD_EQ_12      20.619915\nAVE_PDE_CST_PD_EQ_12     20.619915\nAVE_PDE_PD_EQ_12         20.619915\ndtype: float64"
          },
          "metadata": {}
        }
      ],
      "execution_count": 4,
      "metadata": {
        "jupyter": {
          "source_hidden": false,
          "outputs_hidden": false
        },
        "nteract": {
          "transient": {
            "deleting": false
          }
        },
        "gather": {
          "logged": 1686866352524
        }
      }
    },
    {
      "cell_type": "code",
      "source": [
        "x = df['CC_CANCER'].isnull()\r\n",
        "y= df['CC_ALZHDMTA'].isnull()"
      ],
      "outputs": [],
      "execution_count": 5,
      "metadata": {
        "jupyter": {
          "source_hidden": false,
          "outputs_hidden": false
        },
        "nteract": {
          "transient": {
            "deleting": false
          }
        },
        "gather": {
          "logged": 1686866357829
        }
      }
    },
    {
      "cell_type": "code",
      "source": [
        "z=[]\r\n",
        "for i in range(len(x)):\r\n",
        "    if x[i]!=y[i]:\r\n",
        "        z=z+[i]\r\n",
        "\r\n",
        "z"
      ],
      "outputs": [
        {
          "output_type": "execute_result",
          "execution_count": 6,
          "data": {
            "text/plain": "[]"
          },
          "metadata": {}
        }
      ],
      "execution_count": 6,
      "metadata": {
        "jupyter": {
          "source_hidden": false,
          "outputs_hidden": false
        },
        "nteract": {
          "transient": {
            "deleting": false
          }
        },
        "gather": {
          "logged": 1686866360490
        }
      }
    },
    {
      "cell_type": "markdown",
      "source": [
        "It seems the suppressed conditions are all in the same rows, so we removed the rows with suppressed data!"
      ],
      "metadata": {
        "nteract": {
          "transient": {
            "deleting": false
          }
        }
      }
    },
    {
      "cell_type": "code",
      "source": [
        "filtereddf = df.dropna(subset=['CC_CANCER'])"
      ],
      "outputs": [],
      "execution_count": 7,
      "metadata": {
        "jupyter": {
          "source_hidden": false,
          "outputs_hidden": false
        },
        "nteract": {
          "transient": {
            "deleting": false
          }
        },
        "gather": {
          "logged": 1686866367239
        }
      }
    },
    {
      "cell_type": "code",
      "source": [
        "filtereddf.isnull().sum()/filtereddf.shape[0]*100"
      ],
      "outputs": [
        {
          "output_type": "execute_result",
          "execution_count": 8,
          "data": {
            "text/plain": "BENE_SEX_IDENT_CD         0.000000\nBENE_AGE_CAT_CD           0.000000\nCC_ALZHDMTA               0.000000\nCC_CANCER                 0.000000\nCC_CHF                    0.000000\nCC_CHRNKIDN               0.000000\nCC_COPD                   0.000000\nCC_DEPRESSN               0.000000\nCC_DIABETES               0.000000\nCC_ISCHMCHT               0.000000\nCC_OSTEOPRS               0.000000\nCC_RA_OA                  0.000000\nCC_STRKETIA               0.000000\nCC_2_OR_MORE              0.000000\nDUAL_STUS                 0.000000\nBENE_COUNT_PA_LT_12      61.233812\nAVE_MO_EN_PA_LT_12       61.233812\nAVE_PA_PAY_PA_LT_12      61.770662\nAVE_IP_PAY_PA_LT_12      65.947728\nAVE_SNF_PAY_PA_LT_12     71.886037\nAVE_OTH_PAY_PA_LT_12     71.886037\nAVE_IP_ADM_PA_LT_12      65.947728\nAVE_SNF_DAYS_PA_LT_12    71.886037\nBENE_COUNT_PA_EQ_12       7.854956\nAVE_PA_PAY_PA_EQ_12       8.796798\nAVE_IP_PAY_PA_EQ_12      21.530492\nAVE_SNF_PAY_PA_EQ_12     37.720744\nAVE_OTH_PAY_PA_EQ_12     37.720744\nAVE_IP_ADM_PA_EQ_12      21.530492\nAVE_SNF_DAYS_PA_EQ_12    37.720744\nBENE_COUNT_PB_LT_12      60.659289\nAVE_MO_EN_PB_LT_12       60.659289\nAVE_PB_PAY_PB_LT_12      60.659289\nAVE_CA_PAY_PB_LT_12      60.659289\nAVE_OP_PAY_PB_LT_12      62.265128\nAVE_OTH_PAY_PB_LT_12     62.265128\nAVE_CA_VST_PB_LT_12      60.659289\nAVE_OP_VST_PB_LT_12      62.265128\nBENE_COUNT_PB_EQ_12       7.402873\nAVE_PB_PAY_PB_EQ_12       7.402873\nAVE_CA_PAY_PB_EQ_12       7.402873\nAVE_OP_PAY_PB_EQ_12       8.090417\nAVE_OTH_PAY_PB_EQ_12      8.090417\nAVE_CA_VST_PB_EQ_12       7.402873\nAVE_OP_VST_PB_EQ_12       8.090417\nBENE_COUNT_PC_LT_12      88.231693\nAVE_MO_EN_PC_LT_12       88.231693\nBENE_COUNT_PC_EQ_12      90.642807\nBENE_COUNT_PD_LT_12      67.685425\nAVE_MO_EN_PD_LT_12       67.685425\nAVE_PDE_CST_PD_LT_12     67.685425\nAVE_PDE_PD_LT_12         67.685425\nBENE_COUNT_PD_EQ_12      21.360961\nAVE_PDE_CST_PD_EQ_12     21.360961\nAVE_PDE_PD_EQ_12         21.360961\ndtype: float64"
          },
          "metadata": {}
        }
      ],
      "execution_count": 8,
      "metadata": {
        "jupyter": {
          "source_hidden": false,
          "outputs_hidden": false
        },
        "nteract": {
          "transient": {
            "deleting": false
          }
        },
        "gather": {
          "logged": 1686866372608
        }
      }
    },
    {
      "cell_type": "code",
      "source": [
        "df=filtereddf\r\n",
        "df.shape"
      ],
      "outputs": [
        {
          "output_type": "execute_result",
          "execution_count": 9,
          "data": {
            "text/plain": "(21235, 55)"
          },
          "metadata": {}
        }
      ],
      "execution_count": 9,
      "metadata": {
        "jupyter": {
          "source_hidden": false,
          "outputs_hidden": false
        },
        "nteract": {
          "transient": {
            "deleting": false
          }
        },
        "gather": {
          "logged": 1686866376916
        }
      }
    },
    {
      "cell_type": "markdown",
      "source": [
        "That fixed the missing values in the conditions columns - and fortuitously we did not lose much! We note that the \"Less than 12 month\" columns all have a large amount of missing data, as do the Medicare plan C columns. We will quickly make a list of these \"bad\" indexes and remove them as part of our cleaning. The columns with a small percentage of missing values we will clean with SimpleImputer later!"
      ],
      "metadata": {
        "nteract": {
          "transient": {
            "deleting": false
          }
        }
      }
    },
    {
      "cell_type": "code",
      "source": [
        "bad=[]\r\n",
        "\r\n",
        "for i in range(df.shape[1]):\r\n",
        "    if df.iloc[:,i].isnull().sum()/df.shape[0]*100 >50:\r\n",
        "        bad = bad + [i]\r\n",
        "\r\n",
        "print(bad)"
      ],
      "outputs": [
        {
          "output_type": "stream",
          "name": "stdout",
          "text": "[15, 16, 17, 18, 19, 20, 21, 22, 30, 31, 32, 33, 34, 35, 36, 37, 45, 46, 47, 48, 49, 50, 51]\n"
        }
      ],
      "execution_count": 10,
      "metadata": {
        "jupyter": {
          "source_hidden": false,
          "outputs_hidden": false
        },
        "nteract": {
          "transient": {
            "deleting": false
          }
        },
        "gather": {
          "logged": 1686866382123
        }
      }
    },
    {
      "cell_type": "code",
      "source": [
        "df = df.drop(df.columns[bad], axis=1)\r\n",
        "df.head()"
      ],
      "outputs": [
        {
          "output_type": "execute_result",
          "execution_count": 11,
          "data": {
            "text/plain": "    BENE_SEX_IDENT_CD  BENE_AGE_CAT_CD  CC_ALZHDMTA  CC_CANCER  CC_CHF  \\\n64                  1                1          0.0        0.0       0   \n65                  1                1          0.0        0.0       0   \n66                  1                1          0.0        0.0       0   \n67                  1                1          0.0        0.0       0   \n68                  1                1          0.0        0.0       0   \n\n    CC_CHRNKIDN  CC_COPD  CC_DEPRESSN  CC_DIABETES  CC_ISCHMCHT  ...  \\\n64            0      0.0          0.0            0            0  ...   \n65            0      0.0          0.0            0            0  ...   \n66            0      0.0          0.0            0            0  ...   \n67            0      0.0          0.0            0            0  ...   \n68            0      0.0          0.0            0            0  ...   \n\n    BENE_COUNT_PB_EQ_12  AVE_PB_PAY_PB_EQ_12  AVE_CA_PAY_PB_EQ_12  \\\n64             637117.0                890.0                473.0   \n65             581822.0               1688.0                829.0   \n66               4024.0               3064.0               1640.0   \n67               3865.0               5242.0               2629.0   \n68              36156.0               3145.0               1978.0   \n\n    AVE_OP_PAY_PB_EQ_12  AVE_OTH_PAY_PB_EQ_12  AVE_CA_VST_PB_EQ_12  \\\n64                278.0                 139.0                1.948   \n65                564.0                 295.0                2.957   \n66                980.0                 444.0                6.070   \n67               1753.0                 860.0                6.105   \n68                851.0                 316.0                7.099   \n\n    AVE_OP_VST_PB_EQ_12  BENE_COUNT_PD_EQ_12  AVE_PDE_CST_PD_EQ_12  \\\n64                1.127             516476.0                2480.0   \n65                2.786             753223.0                3479.0   \n66                3.872               1685.0                2751.0   \n67                6.118               3963.0                3979.0   \n68                3.109              16427.0                2876.0   \n\n    AVE_PDE_PD_EQ_12  \n64            29.415  \n65            28.795  \n66            33.657  \n67            43.839  \n68            34.996  \n\n[5 rows x 32 columns]",
            "text/html": "<div>\n<style scoped>\n    .dataframe tbody tr th:only-of-type {\n        vertical-align: middle;\n    }\n\n    .dataframe tbody tr th {\n        vertical-align: top;\n    }\n\n    .dataframe thead th {\n        text-align: right;\n    }\n</style>\n<table border=\"1\" class=\"dataframe\">\n  <thead>\n    <tr style=\"text-align: right;\">\n      <th></th>\n      <th>BENE_SEX_IDENT_CD</th>\n      <th>BENE_AGE_CAT_CD</th>\n      <th>CC_ALZHDMTA</th>\n      <th>CC_CANCER</th>\n      <th>CC_CHF</th>\n      <th>CC_CHRNKIDN</th>\n      <th>CC_COPD</th>\n      <th>CC_DEPRESSN</th>\n      <th>CC_DIABETES</th>\n      <th>CC_ISCHMCHT</th>\n      <th>...</th>\n      <th>BENE_COUNT_PB_EQ_12</th>\n      <th>AVE_PB_PAY_PB_EQ_12</th>\n      <th>AVE_CA_PAY_PB_EQ_12</th>\n      <th>AVE_OP_PAY_PB_EQ_12</th>\n      <th>AVE_OTH_PAY_PB_EQ_12</th>\n      <th>AVE_CA_VST_PB_EQ_12</th>\n      <th>AVE_OP_VST_PB_EQ_12</th>\n      <th>BENE_COUNT_PD_EQ_12</th>\n      <th>AVE_PDE_CST_PD_EQ_12</th>\n      <th>AVE_PDE_PD_EQ_12</th>\n    </tr>\n  </thead>\n  <tbody>\n    <tr>\n      <th>64</th>\n      <td>1</td>\n      <td>1</td>\n      <td>0.0</td>\n      <td>0.0</td>\n      <td>0</td>\n      <td>0</td>\n      <td>0.0</td>\n      <td>0.0</td>\n      <td>0</td>\n      <td>0</td>\n      <td>...</td>\n      <td>637117.0</td>\n      <td>890.0</td>\n      <td>473.0</td>\n      <td>278.0</td>\n      <td>139.0</td>\n      <td>1.948</td>\n      <td>1.127</td>\n      <td>516476.0</td>\n      <td>2480.0</td>\n      <td>29.415</td>\n    </tr>\n    <tr>\n      <th>65</th>\n      <td>1</td>\n      <td>1</td>\n      <td>0.0</td>\n      <td>0.0</td>\n      <td>0</td>\n      <td>0</td>\n      <td>0.0</td>\n      <td>0.0</td>\n      <td>0</td>\n      <td>0</td>\n      <td>...</td>\n      <td>581822.0</td>\n      <td>1688.0</td>\n      <td>829.0</td>\n      <td>564.0</td>\n      <td>295.0</td>\n      <td>2.957</td>\n      <td>2.786</td>\n      <td>753223.0</td>\n      <td>3479.0</td>\n      <td>28.795</td>\n    </tr>\n    <tr>\n      <th>66</th>\n      <td>1</td>\n      <td>1</td>\n      <td>0.0</td>\n      <td>0.0</td>\n      <td>0</td>\n      <td>0</td>\n      <td>0.0</td>\n      <td>0.0</td>\n      <td>0</td>\n      <td>0</td>\n      <td>...</td>\n      <td>4024.0</td>\n      <td>3064.0</td>\n      <td>1640.0</td>\n      <td>980.0</td>\n      <td>444.0</td>\n      <td>6.070</td>\n      <td>3.872</td>\n      <td>1685.0</td>\n      <td>2751.0</td>\n      <td>33.657</td>\n    </tr>\n    <tr>\n      <th>67</th>\n      <td>1</td>\n      <td>1</td>\n      <td>0.0</td>\n      <td>0.0</td>\n      <td>0</td>\n      <td>0</td>\n      <td>0.0</td>\n      <td>0.0</td>\n      <td>0</td>\n      <td>0</td>\n      <td>...</td>\n      <td>3865.0</td>\n      <td>5242.0</td>\n      <td>2629.0</td>\n      <td>1753.0</td>\n      <td>860.0</td>\n      <td>6.105</td>\n      <td>6.118</td>\n      <td>3963.0</td>\n      <td>3979.0</td>\n      <td>43.839</td>\n    </tr>\n    <tr>\n      <th>68</th>\n      <td>1</td>\n      <td>1</td>\n      <td>0.0</td>\n      <td>0.0</td>\n      <td>0</td>\n      <td>0</td>\n      <td>0.0</td>\n      <td>0.0</td>\n      <td>0</td>\n      <td>0</td>\n      <td>...</td>\n      <td>36156.0</td>\n      <td>3145.0</td>\n      <td>1978.0</td>\n      <td>851.0</td>\n      <td>316.0</td>\n      <td>7.099</td>\n      <td>3.109</td>\n      <td>16427.0</td>\n      <td>2876.0</td>\n      <td>34.996</td>\n    </tr>\n  </tbody>\n</table>\n<p>5 rows × 32 columns</p>\n</div>"
          },
          "metadata": {}
        }
      ],
      "execution_count": 11,
      "metadata": {
        "jupyter": {
          "source_hidden": false,
          "outputs_hidden": false
        },
        "nteract": {
          "transient": {
            "deleting": false
          }
        },
        "gather": {
          "logged": 1686866385191
        }
      }
    },
    {
      "cell_type": "code",
      "source": [
        "df.dtypes"
      ],
      "outputs": [
        {
          "output_type": "execute_result",
          "execution_count": 12,
          "data": {
            "text/plain": "BENE_SEX_IDENT_CD          int64\nBENE_AGE_CAT_CD            int64\nCC_ALZHDMTA              float64\nCC_CANCER                float64\nCC_CHF                     int64\nCC_CHRNKIDN                int64\nCC_COPD                  float64\nCC_DEPRESSN              float64\nCC_DIABETES                int64\nCC_ISCHMCHT                int64\nCC_OSTEOPRS              float64\nCC_RA_OA                   int64\nCC_STRKETIA              float64\nCC_2_OR_MORE               int64\nDUAL_STUS                  int64\nBENE_COUNT_PA_EQ_12      float64\nAVE_PA_PAY_PA_EQ_12      float64\nAVE_IP_PAY_PA_EQ_12      float64\nAVE_SNF_PAY_PA_EQ_12     float64\nAVE_OTH_PAY_PA_EQ_12     float64\nAVE_IP_ADM_PA_EQ_12      float64\nAVE_SNF_DAYS_PA_EQ_12    float64\nBENE_COUNT_PB_EQ_12      float64\nAVE_PB_PAY_PB_EQ_12      float64\nAVE_CA_PAY_PB_EQ_12      float64\nAVE_OP_PAY_PB_EQ_12      float64\nAVE_OTH_PAY_PB_EQ_12     float64\nAVE_CA_VST_PB_EQ_12      float64\nAVE_OP_VST_PB_EQ_12      float64\nBENE_COUNT_PD_EQ_12      float64\nAVE_PDE_CST_PD_EQ_12     float64\nAVE_PDE_PD_EQ_12         float64\ndtype: object"
          },
          "metadata": {}
        }
      ],
      "execution_count": 12,
      "metadata": {
        "jupyter": {
          "source_hidden": false,
          "outputs_hidden": false
        },
        "nteract": {
          "transient": {
            "deleting": false
          }
        },
        "gather": {
          "logged": 1686866388898
        }
      }
    },
    {
      "cell_type": "code",
      "source": [
        "df = df.astype('float64')\r\n",
        "df2 = df"
      ],
      "outputs": [],
      "execution_count": 13,
      "metadata": {
        "jupyter": {
          "source_hidden": false,
          "outputs_hidden": false
        },
        "nteract": {
          "transient": {
            "deleting": false
          }
        },
        "gather": {
          "logged": 1686866392262
        }
      }
    },
    {
      "cell_type": "markdown",
      "source": [
        "Just checking some different columns to get a sense of the data."
      ],
      "metadata": {
        "nteract": {
          "transient": {
            "deleting": false
          }
        }
      }
    },
    {
      "cell_type": "code",
      "source": [
        "age_counts = df[['BENE_AGE_CAT_CD']].value_counts()\r\n",
        "age_counts"
      ],
      "outputs": [
        {
          "output_type": "execute_result",
          "execution_count": 14,
          "data": {
            "text/plain": "BENE_AGE_CAT_CD\n6.0                4305\n5.0                3967\n4.0                3826\n3.0                3477\n2.0                2974\n1.0                2686\ndtype: int64"
          },
          "metadata": {}
        }
      ],
      "execution_count": 14,
      "metadata": {
        "jupyter": {
          "source_hidden": false,
          "outputs_hidden": false
        },
        "nteract": {
          "transient": {
            "deleting": false
          }
        },
        "gather": {
          "logged": 1686866398032
        }
      }
    },
    {
      "cell_type": "code",
      "source": [
        "sex_counts = df[['BENE_SEX_IDENT_CD']].value_counts()\r\n",
        "sex_counts"
      ],
      "outputs": [
        {
          "output_type": "execute_result",
          "execution_count": 15,
          "data": {
            "text/plain": "BENE_SEX_IDENT_CD\n2.0                  12008\n1.0                   9227\ndtype: int64"
          },
          "metadata": {}
        }
      ],
      "execution_count": 15,
      "metadata": {
        "jupyter": {
          "source_hidden": false,
          "outputs_hidden": false
        },
        "nteract": {
          "transient": {
            "deleting": false
          }
        },
        "gather": {
          "logged": 1686866400969
        }
      }
    },
    {
      "cell_type": "code",
      "source": [
        "cancer_counts = df[[\"CC_CANCER\"]].value_counts()\r\n",
        "cancer_counts\r\n"
      ],
      "outputs": [
        {
          "output_type": "execute_result",
          "execution_count": 16,
          "data": {
            "text/plain": "CC_CANCER\n0.0          15869\n1.0           5366\ndtype: int64"
          },
          "metadata": {}
        }
      ],
      "execution_count": 16,
      "metadata": {
        "jupyter": {
          "source_hidden": false,
          "outputs_hidden": false
        },
        "nteract": {
          "transient": {
            "deleting": false
          }
        },
        "gather": {
          "logged": 1686866403631
        }
      }
    },
    {
      "cell_type": "code",
      "source": [
        "df[[\"CC_CANCER\"]].isnull().sum()"
      ],
      "outputs": [
        {
          "output_type": "execute_result",
          "execution_count": 17,
          "data": {
            "text/plain": "CC_CANCER    0\ndtype: int64"
          },
          "metadata": {}
        }
      ],
      "execution_count": 17,
      "metadata": {
        "jupyter": {
          "source_hidden": false,
          "outputs_hidden": false
        },
        "nteract": {
          "transient": {
            "deleting": false
          }
        },
        "gather": {
          "logged": 1686866406015
        }
      }
    },
    {
      "cell_type": "markdown",
      "source": [
        "We now check for outliers! I am particularly interested in looking at drug prices (the last two columns pertaining to plan D)."
      ],
      "metadata": {
        "nteract": {
          "transient": {
            "deleting": false
          }
        }
      }
    },
    {
      "cell_type": "code",
      "source": [
        "df2.describe()"
      ],
      "outputs": [
        {
          "output_type": "execute_result",
          "execution_count": 18,
          "data": {
            "text/plain": "       BENE_SEX_IDENT_CD  BENE_AGE_CAT_CD   CC_ALZHDMTA     CC_CANCER  \\\ncount       21235.000000     21235.000000  21235.000000  21235.000000   \nmean            1.565482         3.768966      0.414128      0.252696   \nstd             0.495705         1.675364      0.492582      0.434568   \nmin             1.000000         1.000000      0.000000      0.000000   \n25%             1.000000         2.000000      0.000000      0.000000   \n50%             2.000000         4.000000      0.000000      0.000000   \n75%             2.000000         5.000000      1.000000      1.000000   \nmax             2.000000         6.000000      1.000000      1.000000   \n\n             CC_CHF   CC_CHRNKIDN       CC_COPD   CC_DEPRESSN   CC_DIABETES  \\\ncount  21235.000000  21235.000000  21235.000000  21235.000000  21235.000000   \nmean       0.472239      0.439604      0.422557      0.442194      0.483117   \nstd        0.499240      0.496351      0.493978      0.496659      0.499727   \nmin        0.000000      0.000000      0.000000      0.000000      0.000000   \n25%        0.000000      0.000000      0.000000      0.000000      0.000000   \n50%        0.000000      0.000000      0.000000      0.000000      0.000000   \n75%        1.000000      1.000000      1.000000      1.000000      1.000000   \nmax        1.000000      1.000000      1.000000      1.000000      1.000000   \n\n        CC_ISCHMCHT  ...  BENE_COUNT_PB_EQ_12  AVE_PB_PAY_PB_EQ_12  \\\ncount  21235.000000  ...         1.966300e+04         19663.000000   \nmean       0.562703  ...         1.531037e+03         11515.049891   \nstd        0.496064  ...         1.928658e+04          5540.731021   \nmin        0.000000  ...         3.000000e+01           890.000000   \n25%        0.000000  ...         5.900000e+01          7649.500000   \n50%        1.000000  ...         1.330000e+02         10390.000000   \n75%        1.000000  ...         4.130000e+02         14071.500000   \nmax        1.000000  ...         1.178926e+06         45752.000000   \n\n       AVE_CA_PAY_PB_EQ_12  AVE_OP_PAY_PB_EQ_12  AVE_OTH_PAY_PB_EQ_12  \\\ncount         19663.000000         19517.000000          19517.000000   \nmean           6024.294970          3256.701747           2244.724906   \nstd            2936.794663          2159.437705           1449.120734   \nmin             473.000000           254.000000             40.000000   \n25%            3940.000000          1902.000000           1158.000000   \n50%            5438.000000          2670.000000           1912.000000   \n75%            7447.000000          3891.000000           3010.000000   \nmax           25764.000000         19355.000000           9938.000000   \n\n       AVE_CA_VST_PB_EQ_12  AVE_OP_VST_PB_EQ_12  BENE_COUNT_PD_EQ_12  \\\ncount         19663.000000         19517.000000         1.669900e+04   \nmean             12.434397             8.445115         1.550006e+03   \nstd               4.849661             2.805178         2.652404e+04   \nmin               1.209000             1.078000         3.000000e+01   \n25%               8.945500             6.471000         5.500000e+01   \n50%              12.413000             8.057000         1.180000e+02   \n75%              15.785000            10.029000         3.430000e+02   \nmax              32.303000            26.912000         1.482514e+06   \n\n       AVE_PDE_CST_PD_EQ_12  AVE_PDE_PD_EQ_12  \ncount          16699.000000      16699.000000  \nmean            5069.836457         70.628225  \nstd             2110.611758         24.076963  \nmin             1279.000000         17.259000  \n25%             3534.000000         52.124000  \n50%             4608.000000         67.065000  \n75%             6200.500000         86.422000  \nmax            26641.000000        174.674000  \n\n[8 rows x 32 columns]",
            "text/html": "<div>\n<style scoped>\n    .dataframe tbody tr th:only-of-type {\n        vertical-align: middle;\n    }\n\n    .dataframe tbody tr th {\n        vertical-align: top;\n    }\n\n    .dataframe thead th {\n        text-align: right;\n    }\n</style>\n<table border=\"1\" class=\"dataframe\">\n  <thead>\n    <tr style=\"text-align: right;\">\n      <th></th>\n      <th>BENE_SEX_IDENT_CD</th>\n      <th>BENE_AGE_CAT_CD</th>\n      <th>CC_ALZHDMTA</th>\n      <th>CC_CANCER</th>\n      <th>CC_CHF</th>\n      <th>CC_CHRNKIDN</th>\n      <th>CC_COPD</th>\n      <th>CC_DEPRESSN</th>\n      <th>CC_DIABETES</th>\n      <th>CC_ISCHMCHT</th>\n      <th>...</th>\n      <th>BENE_COUNT_PB_EQ_12</th>\n      <th>AVE_PB_PAY_PB_EQ_12</th>\n      <th>AVE_CA_PAY_PB_EQ_12</th>\n      <th>AVE_OP_PAY_PB_EQ_12</th>\n      <th>AVE_OTH_PAY_PB_EQ_12</th>\n      <th>AVE_CA_VST_PB_EQ_12</th>\n      <th>AVE_OP_VST_PB_EQ_12</th>\n      <th>BENE_COUNT_PD_EQ_12</th>\n      <th>AVE_PDE_CST_PD_EQ_12</th>\n      <th>AVE_PDE_PD_EQ_12</th>\n    </tr>\n  </thead>\n  <tbody>\n    <tr>\n      <th>count</th>\n      <td>21235.000000</td>\n      <td>21235.000000</td>\n      <td>21235.000000</td>\n      <td>21235.000000</td>\n      <td>21235.000000</td>\n      <td>21235.000000</td>\n      <td>21235.000000</td>\n      <td>21235.000000</td>\n      <td>21235.000000</td>\n      <td>21235.000000</td>\n      <td>...</td>\n      <td>1.966300e+04</td>\n      <td>19663.000000</td>\n      <td>19663.000000</td>\n      <td>19517.000000</td>\n      <td>19517.000000</td>\n      <td>19663.000000</td>\n      <td>19517.000000</td>\n      <td>1.669900e+04</td>\n      <td>16699.000000</td>\n      <td>16699.000000</td>\n    </tr>\n    <tr>\n      <th>mean</th>\n      <td>1.565482</td>\n      <td>3.768966</td>\n      <td>0.414128</td>\n      <td>0.252696</td>\n      <td>0.472239</td>\n      <td>0.439604</td>\n      <td>0.422557</td>\n      <td>0.442194</td>\n      <td>0.483117</td>\n      <td>0.562703</td>\n      <td>...</td>\n      <td>1.531037e+03</td>\n      <td>11515.049891</td>\n      <td>6024.294970</td>\n      <td>3256.701747</td>\n      <td>2244.724906</td>\n      <td>12.434397</td>\n      <td>8.445115</td>\n      <td>1.550006e+03</td>\n      <td>5069.836457</td>\n      <td>70.628225</td>\n    </tr>\n    <tr>\n      <th>std</th>\n      <td>0.495705</td>\n      <td>1.675364</td>\n      <td>0.492582</td>\n      <td>0.434568</td>\n      <td>0.499240</td>\n      <td>0.496351</td>\n      <td>0.493978</td>\n      <td>0.496659</td>\n      <td>0.499727</td>\n      <td>0.496064</td>\n      <td>...</td>\n      <td>1.928658e+04</td>\n      <td>5540.731021</td>\n      <td>2936.794663</td>\n      <td>2159.437705</td>\n      <td>1449.120734</td>\n      <td>4.849661</td>\n      <td>2.805178</td>\n      <td>2.652404e+04</td>\n      <td>2110.611758</td>\n      <td>24.076963</td>\n    </tr>\n    <tr>\n      <th>min</th>\n      <td>1.000000</td>\n      <td>1.000000</td>\n      <td>0.000000</td>\n      <td>0.000000</td>\n      <td>0.000000</td>\n      <td>0.000000</td>\n      <td>0.000000</td>\n      <td>0.000000</td>\n      <td>0.000000</td>\n      <td>0.000000</td>\n      <td>...</td>\n      <td>3.000000e+01</td>\n      <td>890.000000</td>\n      <td>473.000000</td>\n      <td>254.000000</td>\n      <td>40.000000</td>\n      <td>1.209000</td>\n      <td>1.078000</td>\n      <td>3.000000e+01</td>\n      <td>1279.000000</td>\n      <td>17.259000</td>\n    </tr>\n    <tr>\n      <th>25%</th>\n      <td>1.000000</td>\n      <td>2.000000</td>\n      <td>0.000000</td>\n      <td>0.000000</td>\n      <td>0.000000</td>\n      <td>0.000000</td>\n      <td>0.000000</td>\n      <td>0.000000</td>\n      <td>0.000000</td>\n      <td>0.000000</td>\n      <td>...</td>\n      <td>5.900000e+01</td>\n      <td>7649.500000</td>\n      <td>3940.000000</td>\n      <td>1902.000000</td>\n      <td>1158.000000</td>\n      <td>8.945500</td>\n      <td>6.471000</td>\n      <td>5.500000e+01</td>\n      <td>3534.000000</td>\n      <td>52.124000</td>\n    </tr>\n    <tr>\n      <th>50%</th>\n      <td>2.000000</td>\n      <td>4.000000</td>\n      <td>0.000000</td>\n      <td>0.000000</td>\n      <td>0.000000</td>\n      <td>0.000000</td>\n      <td>0.000000</td>\n      <td>0.000000</td>\n      <td>0.000000</td>\n      <td>1.000000</td>\n      <td>...</td>\n      <td>1.330000e+02</td>\n      <td>10390.000000</td>\n      <td>5438.000000</td>\n      <td>2670.000000</td>\n      <td>1912.000000</td>\n      <td>12.413000</td>\n      <td>8.057000</td>\n      <td>1.180000e+02</td>\n      <td>4608.000000</td>\n      <td>67.065000</td>\n    </tr>\n    <tr>\n      <th>75%</th>\n      <td>2.000000</td>\n      <td>5.000000</td>\n      <td>1.000000</td>\n      <td>1.000000</td>\n      <td>1.000000</td>\n      <td>1.000000</td>\n      <td>1.000000</td>\n      <td>1.000000</td>\n      <td>1.000000</td>\n      <td>1.000000</td>\n      <td>...</td>\n      <td>4.130000e+02</td>\n      <td>14071.500000</td>\n      <td>7447.000000</td>\n      <td>3891.000000</td>\n      <td>3010.000000</td>\n      <td>15.785000</td>\n      <td>10.029000</td>\n      <td>3.430000e+02</td>\n      <td>6200.500000</td>\n      <td>86.422000</td>\n    </tr>\n    <tr>\n      <th>max</th>\n      <td>2.000000</td>\n      <td>6.000000</td>\n      <td>1.000000</td>\n      <td>1.000000</td>\n      <td>1.000000</td>\n      <td>1.000000</td>\n      <td>1.000000</td>\n      <td>1.000000</td>\n      <td>1.000000</td>\n      <td>1.000000</td>\n      <td>...</td>\n      <td>1.178926e+06</td>\n      <td>45752.000000</td>\n      <td>25764.000000</td>\n      <td>19355.000000</td>\n      <td>9938.000000</td>\n      <td>32.303000</td>\n      <td>26.912000</td>\n      <td>1.482514e+06</td>\n      <td>26641.000000</td>\n      <td>174.674000</td>\n    </tr>\n  </tbody>\n</table>\n<p>8 rows × 32 columns</p>\n</div>"
          },
          "metadata": {}
        }
      ],
      "execution_count": 18,
      "metadata": {
        "jupyter": {
          "source_hidden": false,
          "outputs_hidden": false
        },
        "nteract": {
          "transient": {
            "deleting": false
          }
        },
        "gather": {
          "logged": 1686866410000
        }
      }
    },
    {
      "cell_type": "code",
      "source": [
        "sup = df2['AVE_PDE_CST_PD_EQ_12'].mean() +3*df2['AVE_PDE_CST_PD_EQ_12'].std()\r\n",
        "inf = df2['AVE_PDE_CST_PD_EQ_12'].mean() -3*df2['AVE_PDE_CST_PD_EQ_12'].std()\r\n",
        "\r\n",
        "print(sup,inf)"
      ],
      "outputs": [
        {
          "output_type": "stream",
          "name": "stdout",
          "text": "11401.67173259739 -1261.9988180516084\n"
        }
      ],
      "execution_count": 19,
      "metadata": {
        "jupyter": {
          "source_hidden": false,
          "outputs_hidden": false
        },
        "nteract": {
          "transient": {
            "deleting": false
          }
        },
        "gather": {
          "logged": 1686866414731
        }
      }
    },
    {
      "cell_type": "markdown",
      "source": [
        "Since our lower bound is negative, we will only filter by the upper bound. While we should do a similar process for each column (via a for loop), my analysis will only be predicting drug prices."
      ],
      "metadata": {
        "nteract": {
          "transient": {
            "deleting": false
          }
        }
      }
    },
    {
      "cell_type": "code",
      "source": [
        "df2 =  df2[df2['AVE_PDE_CST_PD_EQ_12'] < sup]"
      ],
      "outputs": [],
      "execution_count": 20,
      "metadata": {
        "jupyter": {
          "source_hidden": false,
          "outputs_hidden": false
        },
        "nteract": {
          "transient": {
            "deleting": false
          }
        },
        "gather": {
          "logged": 1686866424573
        }
      }
    },
    {
      "cell_type": "code",
      "source": [
        "df2.shape"
      ],
      "outputs": [
        {
          "output_type": "execute_result",
          "execution_count": 21,
          "data": {
            "text/plain": "(16517, 32)"
          },
          "metadata": {}
        }
      ],
      "execution_count": 21,
      "metadata": {
        "jupyter": {
          "source_hidden": false,
          "outputs_hidden": false
        },
        "nteract": {
          "transient": {
            "deleting": false
          }
        },
        "gather": {
          "logged": 1686866426908
        }
      }
    },
    {
      "cell_type": "code",
      "source": [
        "df2.isnull().sum()"
      ],
      "outputs": [
        {
          "output_type": "execute_result",
          "execution_count": 22,
          "data": {
            "text/plain": "BENE_SEX_IDENT_CD           0\nBENE_AGE_CAT_CD             0\nCC_ALZHDMTA                 0\nCC_CANCER                   0\nCC_CHF                      0\nCC_CHRNKIDN                 0\nCC_COPD                     0\nCC_DEPRESSN                 0\nCC_DIABETES                 0\nCC_ISCHMCHT                 0\nCC_OSTEOPRS                 0\nCC_RA_OA                    0\nCC_STRKETIA                 0\nCC_2_OR_MORE                0\nDUAL_STUS                   0\nBENE_COUNT_PA_EQ_12       136\nAVE_PA_PAY_PA_EQ_12       270\nAVE_IP_PAY_PA_EQ_12      1865\nAVE_SNF_PAY_PA_EQ_12     4569\nAVE_OTH_PAY_PA_EQ_12     4569\nAVE_IP_ADM_PA_EQ_12      1865\nAVE_SNF_DAYS_PA_EQ_12    4569\nBENE_COUNT_PB_EQ_12        59\nAVE_PB_PAY_PB_EQ_12        59\nAVE_CA_PAY_PB_EQ_12        59\nAVE_OP_PAY_PB_EQ_12       148\nAVE_OTH_PAY_PB_EQ_12      148\nAVE_CA_VST_PB_EQ_12        59\nAVE_OP_VST_PB_EQ_12       148\nBENE_COUNT_PD_EQ_12         0\nAVE_PDE_CST_PD_EQ_12        0\nAVE_PDE_PD_EQ_12            0\ndtype: int64"
          },
          "metadata": {}
        }
      ],
      "execution_count": 22,
      "metadata": {
        "jupyter": {
          "source_hidden": false,
          "outputs_hidden": false
        },
        "nteract": {
          "transient": {
            "deleting": false
          }
        },
        "gather": {
          "logged": 1686866430362
        }
      }
    },
    {
      "cell_type": "markdown",
      "source": [
        "We will now clean up the missing (NaN) values. Since my target will be Plan D, we drop the missing values there to avoid bias. The remaining columns we will impute."
      ],
      "metadata": {
        "nteract": {
          "transient": {
            "deleting": false
          }
        }
      }
    },
    {
      "cell_type": "code",
      "source": [
        "#But the above filtering already took care of that! But if we needed to drop more, we would do so as follows:\r\n",
        "\r\n",
        "#df2 = df2.dropna(subset=['AVE_PDE_CST_PD_EQ_12'])"
      ],
      "outputs": [],
      "execution_count": 23,
      "metadata": {
        "jupyter": {
          "source_hidden": false,
          "outputs_hidden": false
        },
        "nteract": {
          "transient": {
            "deleting": false
          }
        },
        "gather": {
          "logged": 1686866435707
        }
      }
    },
    {
      "cell_type": "code",
      "source": [
        "imp_cost = SimpleImputer(missing_values=np.NaN, strategy='mean')\r\n",
        "for i in range(15,32):\r\n",
        "    df2.iloc[:,i] = imp_cost.fit_transform(df2.iloc[:,i].values.reshape(-1,1))[:,0]\r\n",
        "\r\n",
        "df2.head()"
      ],
      "outputs": [],
      "execution_count": null,
      "metadata": {
        "jupyter": {
          "source_hidden": false,
          "outputs_hidden": false
        },
        "nteract": {
          "transient": {
            "deleting": false
          }
        },
        "gather": {
          "logged": 1686866445261
        }
      }
    },
    {
      "cell_type": "code",
      "source": [
        "df2.isnull().sum()/df2.shape[0]*100"
      ],
      "outputs": [
        {
          "output_type": "execute_result",
          "execution_count": 25,
          "data": {
            "text/plain": "BENE_SEX_IDENT_CD        0.0\nBENE_AGE_CAT_CD          0.0\nCC_ALZHDMTA              0.0\nCC_CANCER                0.0\nCC_CHF                   0.0\nCC_CHRNKIDN              0.0\nCC_COPD                  0.0\nCC_DEPRESSN              0.0\nCC_DIABETES              0.0\nCC_ISCHMCHT              0.0\nCC_OSTEOPRS              0.0\nCC_RA_OA                 0.0\nCC_STRKETIA              0.0\nCC_2_OR_MORE             0.0\nDUAL_STUS                0.0\nBENE_COUNT_PA_EQ_12      0.0\nAVE_PA_PAY_PA_EQ_12      0.0\nAVE_IP_PAY_PA_EQ_12      0.0\nAVE_SNF_PAY_PA_EQ_12     0.0\nAVE_OTH_PAY_PA_EQ_12     0.0\nAVE_IP_ADM_PA_EQ_12      0.0\nAVE_SNF_DAYS_PA_EQ_12    0.0\nBENE_COUNT_PB_EQ_12      0.0\nAVE_PB_PAY_PB_EQ_12      0.0\nAVE_CA_PAY_PB_EQ_12      0.0\nAVE_OP_PAY_PB_EQ_12      0.0\nAVE_OTH_PAY_PB_EQ_12     0.0\nAVE_CA_VST_PB_EQ_12      0.0\nAVE_OP_VST_PB_EQ_12      0.0\nBENE_COUNT_PD_EQ_12      0.0\nAVE_PDE_CST_PD_EQ_12     0.0\nAVE_PDE_PD_EQ_12         0.0\ndtype: float64"
          },
          "metadata": {}
        }
      ],
      "execution_count": 25,
      "metadata": {
        "jupyter": {
          "source_hidden": false,
          "outputs_hidden": false
        },
        "nteract": {
          "transient": {
            "deleting": false
          }
        },
        "gather": {
          "logged": 1686866453936
        }
      }
    },
    {
      "cell_type": "markdown",
      "source": [
        "And now we have filled in the table! We will now make three new columns, one for the total cost for each plan."
      ],
      "metadata": {
        "nteract": {
          "transient": {
            "deleting": false
          }
        }
      }
    },
    {
      "cell_type": "code",
      "source": [
        "df2['Plan_A_Total_Cost'] = df2[df2.columns[17:20]].sum(axis=1)"
      ],
      "outputs": [],
      "execution_count": null,
      "metadata": {
        "jupyter": {
          "source_hidden": false,
          "outputs_hidden": false
        },
        "nteract": {
          "transient": {
            "deleting": false
          }
        },
        "gather": {
          "logged": 1686866459878
        }
      }
    },
    {
      "cell_type": "code",
      "source": [
        "df2['Plan_B_Total_Cost'] = df2[df2.columns[24:27]].sum(axis=1)"
      ],
      "outputs": [],
      "execution_count": null,
      "metadata": {
        "jupyter": {
          "source_hidden": false,
          "outputs_hidden": false
        },
        "nteract": {
          "transient": {
            "deleting": false
          }
        },
        "gather": {
          "logged": 1686866466667
        }
      }
    },
    {
      "cell_type": "code",
      "source": [
        "df2['Plan_D_Total_Cost'] = df2[df2.columns[30:31]].sum(axis=1)"
      ],
      "outputs": [],
      "execution_count": null,
      "metadata": {
        "jupyter": {
          "source_hidden": false,
          "outputs_hidden": false
        },
        "nteract": {
          "transient": {
            "deleting": false
          }
        },
        "gather": {
          "logged": 1686866471094
        }
      }
    },
    {
      "cell_type": "code",
      "source": [
        "df2.head()"
      ],
      "outputs": [
        {
          "output_type": "execute_result",
          "execution_count": 29,
          "data": {
            "text/plain": "    BENE_SEX_IDENT_CD  BENE_AGE_CAT_CD  CC_ALZHDMTA  CC_CANCER  CC_CHF  \\\n64                1.0              1.0          0.0        0.0     0.0   \n65                1.0              1.0          0.0        0.0     0.0   \n66                1.0              1.0          0.0        0.0     0.0   \n67                1.0              1.0          0.0        0.0     0.0   \n68                1.0              1.0          0.0        0.0     0.0   \n\n    CC_CHRNKIDN  CC_COPD  CC_DEPRESSN  CC_DIABETES  CC_ISCHMCHT  ...  \\\n64          0.0      0.0          0.0          0.0          0.0  ...   \n65          0.0      0.0          0.0          0.0          0.0  ...   \n66          0.0      0.0          0.0          0.0          0.0  ...   \n67          0.0      0.0          0.0          0.0          0.0  ...   \n68          0.0      0.0          0.0          0.0          0.0  ...   \n\n    AVE_OP_PAY_PB_EQ_12  AVE_OTH_PAY_PB_EQ_12  AVE_CA_VST_PB_EQ_12  \\\n64                278.0                 139.0                1.948   \n65                564.0                 295.0                2.957   \n66                980.0                 444.0                6.070   \n67               1753.0                 860.0                6.105   \n68                851.0                 316.0                7.099   \n\n    AVE_OP_VST_PB_EQ_12  BENE_COUNT_PD_EQ_12  AVE_PDE_CST_PD_EQ_12  \\\n64                1.127             516476.0                2480.0   \n65                2.786             753223.0                3479.0   \n66                3.872               1685.0                2751.0   \n67                6.118               3963.0                3979.0   \n68                3.109              16427.0                2876.0   \n\n    AVE_PDE_PD_EQ_12  Plan_A_Total_Cost  Plan_B_Total_Cost  Plan_D_Total_Cost  \n64            29.415              290.0              890.0             2480.0  \n65            28.795              913.0             1688.0             3479.0  \n66            33.657             3536.0             3064.0             2751.0  \n67            43.839             7164.0             5242.0             3979.0  \n68            34.996             1487.0             3145.0             2876.0  \n\n[5 rows x 35 columns]",
            "text/html": "<div>\n<style scoped>\n    .dataframe tbody tr th:only-of-type {\n        vertical-align: middle;\n    }\n\n    .dataframe tbody tr th {\n        vertical-align: top;\n    }\n\n    .dataframe thead th {\n        text-align: right;\n    }\n</style>\n<table border=\"1\" class=\"dataframe\">\n  <thead>\n    <tr style=\"text-align: right;\">\n      <th></th>\n      <th>BENE_SEX_IDENT_CD</th>\n      <th>BENE_AGE_CAT_CD</th>\n      <th>CC_ALZHDMTA</th>\n      <th>CC_CANCER</th>\n      <th>CC_CHF</th>\n      <th>CC_CHRNKIDN</th>\n      <th>CC_COPD</th>\n      <th>CC_DEPRESSN</th>\n      <th>CC_DIABETES</th>\n      <th>CC_ISCHMCHT</th>\n      <th>...</th>\n      <th>AVE_OP_PAY_PB_EQ_12</th>\n      <th>AVE_OTH_PAY_PB_EQ_12</th>\n      <th>AVE_CA_VST_PB_EQ_12</th>\n      <th>AVE_OP_VST_PB_EQ_12</th>\n      <th>BENE_COUNT_PD_EQ_12</th>\n      <th>AVE_PDE_CST_PD_EQ_12</th>\n      <th>AVE_PDE_PD_EQ_12</th>\n      <th>Plan_A_Total_Cost</th>\n      <th>Plan_B_Total_Cost</th>\n      <th>Plan_D_Total_Cost</th>\n    </tr>\n  </thead>\n  <tbody>\n    <tr>\n      <th>64</th>\n      <td>1.0</td>\n      <td>1.0</td>\n      <td>0.0</td>\n      <td>0.0</td>\n      <td>0.0</td>\n      <td>0.0</td>\n      <td>0.0</td>\n      <td>0.0</td>\n      <td>0.0</td>\n      <td>0.0</td>\n      <td>...</td>\n      <td>278.0</td>\n      <td>139.0</td>\n      <td>1.948</td>\n      <td>1.127</td>\n      <td>516476.0</td>\n      <td>2480.0</td>\n      <td>29.415</td>\n      <td>290.0</td>\n      <td>890.0</td>\n      <td>2480.0</td>\n    </tr>\n    <tr>\n      <th>65</th>\n      <td>1.0</td>\n      <td>1.0</td>\n      <td>0.0</td>\n      <td>0.0</td>\n      <td>0.0</td>\n      <td>0.0</td>\n      <td>0.0</td>\n      <td>0.0</td>\n      <td>0.0</td>\n      <td>0.0</td>\n      <td>...</td>\n      <td>564.0</td>\n      <td>295.0</td>\n      <td>2.957</td>\n      <td>2.786</td>\n      <td>753223.0</td>\n      <td>3479.0</td>\n      <td>28.795</td>\n      <td>913.0</td>\n      <td>1688.0</td>\n      <td>3479.0</td>\n    </tr>\n    <tr>\n      <th>66</th>\n      <td>1.0</td>\n      <td>1.0</td>\n      <td>0.0</td>\n      <td>0.0</td>\n      <td>0.0</td>\n      <td>0.0</td>\n      <td>0.0</td>\n      <td>0.0</td>\n      <td>0.0</td>\n      <td>0.0</td>\n      <td>...</td>\n      <td>980.0</td>\n      <td>444.0</td>\n      <td>6.070</td>\n      <td>3.872</td>\n      <td>1685.0</td>\n      <td>2751.0</td>\n      <td>33.657</td>\n      <td>3536.0</td>\n      <td>3064.0</td>\n      <td>2751.0</td>\n    </tr>\n    <tr>\n      <th>67</th>\n      <td>1.0</td>\n      <td>1.0</td>\n      <td>0.0</td>\n      <td>0.0</td>\n      <td>0.0</td>\n      <td>0.0</td>\n      <td>0.0</td>\n      <td>0.0</td>\n      <td>0.0</td>\n      <td>0.0</td>\n      <td>...</td>\n      <td>1753.0</td>\n      <td>860.0</td>\n      <td>6.105</td>\n      <td>6.118</td>\n      <td>3963.0</td>\n      <td>3979.0</td>\n      <td>43.839</td>\n      <td>7164.0</td>\n      <td>5242.0</td>\n      <td>3979.0</td>\n    </tr>\n    <tr>\n      <th>68</th>\n      <td>1.0</td>\n      <td>1.0</td>\n      <td>0.0</td>\n      <td>0.0</td>\n      <td>0.0</td>\n      <td>0.0</td>\n      <td>0.0</td>\n      <td>0.0</td>\n      <td>0.0</td>\n      <td>0.0</td>\n      <td>...</td>\n      <td>851.0</td>\n      <td>316.0</td>\n      <td>7.099</td>\n      <td>3.109</td>\n      <td>16427.0</td>\n      <td>2876.0</td>\n      <td>34.996</td>\n      <td>1487.0</td>\n      <td>3145.0</td>\n      <td>2876.0</td>\n    </tr>\n  </tbody>\n</table>\n<p>5 rows × 35 columns</p>\n</div>"
          },
          "metadata": {}
        }
      ],
      "execution_count": 29,
      "metadata": {
        "jupyter": {
          "source_hidden": false,
          "outputs_hidden": false
        },
        "nteract": {
          "transient": {
            "deleting": false
          }
        },
        "gather": {
          "logged": 1686866476763
        }
      }
    },
    {
      "cell_type": "markdown",
      "source": [
        "Now with a satisfactory table for analysis, we will save it as a data asset in our blob storage for easy access later."
      ],
      "metadata": {
        "nteract": {
          "transient": {
            "deleting": false
          }
        }
      }
    },
    {
      "cell_type": "code",
      "source": [
        "df2.to_csv(\"cleaned_chronic_data.csv\", index=False)"
      ],
      "outputs": [],
      "execution_count": 30,
      "metadata": {
        "jupyter": {
          "source_hidden": false,
          "outputs_hidden": false
        },
        "nteract": {
          "transient": {
            "deleting": false
          }
        },
        "gather": {
          "logged": 1686866485553
        }
      }
    },
    {
      "cell_type": "code",
      "source": [
        "#Connect to workspace (the actual values are hidden for security reasons)\r\n",
        "subscription_id = \"<MASKED>\"\r\n",
        "resource_group = \"<MASKED>\"\r\n",
        "workspace = \"<MASKED>\""
      ],
      "outputs": [],
      "execution_count": null,
      "metadata": {
        "jupyter": {
          "source_hidden": false,
          "outputs_hidden": false
        },
        "nteract": {
          "transient": {
            "deleting": false
          }
        },
        "gather": {
          "logged": 1686508199134
        }
      }
    },
    {
      "cell_type": "code",
      "source": [
        "from azure.ai.ml import MLClient\r\n",
        "from azure.ai.ml.entities import Data\r\n",
        "from azure.ai.ml.constants import AssetTypes\r\n",
        "from azure.identity import DefaultAzureCredential\r\n",
        "\r\n",
        "# get a handle to the workspace\r\n",
        "ml_client = MLClient(\r\n",
        "    DefaultAzureCredential(), subscription_id, resource_group, workspace\r\n",
        ")"
      ],
      "outputs": [],
      "execution_count": null,
      "metadata": {
        "jupyter": {
          "source_hidden": false,
          "outputs_hidden": false
        },
        "nteract": {
          "transient": {
            "deleting": false
          }
        },
        "gather": {
          "logged": 1686508218459
        }
      }
    },
    {
      "cell_type": "code",
      "source": [
        "#Make table into a data asset for easy reference later\r\n",
        "\r\n",
        "path = \"azureml://<MASKED>/cleaned_chronic_data.csv\"\r\n",
        "my_data = Data(\r\n",
        "    path=path,\r\n",
        "    type=AssetTypes.URI_FILE,\r\n",
        "    description=\"Data for modeling\",\r\n",
        "    name=\"chronic-model-data\",\r\n",
        "    version=\"1\",\r\n",
        ")\r\n",
        "\r\n",
        "ml_client.data.create_or_update(my_data)"
      ],
      "outputs": [],
      "execution_count": null,
      "metadata": {
        "jupyter": {
          "source_hidden": false,
          "outputs_hidden": false
        },
        "nteract": {
          "transient": {
            "deleting": false
          }
        },
        "gather": {
          "logged": 1686508453146
        }
      }
    }
  ],
  "metadata": {
    "kernelspec": {
      "name": "python38-azureml",
      "language": "python",
      "display_name": "Python 3.8 - AzureML"
    },
    "language_info": {
      "name": "python",
      "version": "3.8.5",
      "mimetype": "text/x-python",
      "codemirror_mode": {
        "name": "ipython",
        "version": 3
      },
      "pygments_lexer": "ipython3",
      "nbconvert_exporter": "python",
      "file_extension": ".py"
    },
    "microsoft": {
      "ms_spell_check": {
        "ms_spell_check_language": "en"
      },
      "host": {
        "AzureML": {
          "notebookHasBeenCompleted": true
        }
      }
    },
    "kernel_info": {
      "name": "python38-azureml"
    },
    "nteract": {
      "version": "nteract-front-end@1.0.0"
    }
  },
  "nbformat": 4,
  "nbformat_minor": 2
}