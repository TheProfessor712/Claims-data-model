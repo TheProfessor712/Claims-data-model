{
  "cells": [
    {
      "cell_type": "markdown",
      "source": [
        "This is just to make some tweaks to our cleaned data (such as renaming the columns) so that we can make a nice R Shiny app!"
      ],
      "metadata": {
        "nteract": {
          "transient": {
            "deleting": false
          }
        }
      }
    },
    {
      "cell_type": "code",
      "source": [
        "import pandas as pd\r\n",
        "import numpy as np\r\n",
        "from sklearn.impute import SimpleImputer"
      ],
      "outputs": [],
      "execution_count": 1,
      "metadata": {
        "gather": {
          "logged": 1686855500303
        }
      }
    },
    {
      "cell_type": "code",
      "source": [
        "df=pd.read_csv('cleaned_chronic_data.csv')\r\n",
        "df.head()"
      ],
      "outputs": [
        {
          "output_type": "execute_result",
          "execution_count": 2,
          "data": {
            "text/plain": "   BENE_SEX_IDENT_CD  BENE_AGE_CAT_CD  CC_ALZHDMTA  CC_CANCER  CC_CHF  \\\n0                1.0              1.0          0.0        0.0     0.0   \n1                1.0              1.0          0.0        0.0     0.0   \n2                1.0              1.0          0.0        0.0     0.0   \n3                1.0              1.0          0.0        0.0     0.0   \n4                1.0              1.0          0.0        0.0     0.0   \n\n   CC_CHRNKIDN  CC_COPD  CC_DEPRESSN  CC_DIABETES  CC_ISCHMCHT  ...  \\\n0          0.0      0.0          0.0          0.0          0.0  ...   \n1          0.0      0.0          0.0          0.0          0.0  ...   \n2          0.0      0.0          0.0          0.0          0.0  ...   \n3          0.0      0.0          0.0          0.0          0.0  ...   \n4          0.0      0.0          0.0          0.0          0.0  ...   \n\n   AVE_OP_PAY_PB_EQ_12  AVE_OTH_PAY_PB_EQ_12  AVE_CA_VST_PB_EQ_12  \\\n0                278.0                 139.0                1.948   \n1                564.0                 295.0                2.957   \n2                980.0                 444.0                6.070   \n3               1753.0                 860.0                6.105   \n4                851.0                 316.0                7.099   \n\n   AVE_OP_VST_PB_EQ_12  BENE_COUNT_PD_EQ_12  AVE_PDE_CST_PD_EQ_12  \\\n0                1.127             516476.0                2480.0   \n1                2.786             753223.0                3479.0   \n2                3.872               1685.0                2751.0   \n3                6.118               3963.0                3979.0   \n4                3.109              16427.0                2876.0   \n\n   AVE_PDE_PD_EQ_12  Plan_A_Total_Cost  Plan_B_Total_Cost  Plan_D_Total_Cost  \n0            29.415              290.0              890.0             2480.0  \n1            28.795              913.0             1688.0             3479.0  \n2            33.657             3536.0             3064.0             2751.0  \n3            43.839             7164.0             5242.0             3979.0  \n4            34.996             1487.0             3145.0             2876.0  \n\n[5 rows x 35 columns]",
            "text/html": "<div>\n<style scoped>\n    .dataframe tbody tr th:only-of-type {\n        vertical-align: middle;\n    }\n\n    .dataframe tbody tr th {\n        vertical-align: top;\n    }\n\n    .dataframe thead th {\n        text-align: right;\n    }\n</style>\n<table border=\"1\" class=\"dataframe\">\n  <thead>\n    <tr style=\"text-align: right;\">\n      <th></th>\n      <th>BENE_SEX_IDENT_CD</th>\n      <th>BENE_AGE_CAT_CD</th>\n      <th>CC_ALZHDMTA</th>\n      <th>CC_CANCER</th>\n      <th>CC_CHF</th>\n      <th>CC_CHRNKIDN</th>\n      <th>CC_COPD</th>\n      <th>CC_DEPRESSN</th>\n      <th>CC_DIABETES</th>\n      <th>CC_ISCHMCHT</th>\n      <th>...</th>\n      <th>AVE_OP_PAY_PB_EQ_12</th>\n      <th>AVE_OTH_PAY_PB_EQ_12</th>\n      <th>AVE_CA_VST_PB_EQ_12</th>\n      <th>AVE_OP_VST_PB_EQ_12</th>\n      <th>BENE_COUNT_PD_EQ_12</th>\n      <th>AVE_PDE_CST_PD_EQ_12</th>\n      <th>AVE_PDE_PD_EQ_12</th>\n      <th>Plan_A_Total_Cost</th>\n      <th>Plan_B_Total_Cost</th>\n      <th>Plan_D_Total_Cost</th>\n    </tr>\n  </thead>\n  <tbody>\n    <tr>\n      <th>0</th>\n      <td>1.0</td>\n      <td>1.0</td>\n      <td>0.0</td>\n      <td>0.0</td>\n      <td>0.0</td>\n      <td>0.0</td>\n      <td>0.0</td>\n      <td>0.0</td>\n      <td>0.0</td>\n      <td>0.0</td>\n      <td>...</td>\n      <td>278.0</td>\n      <td>139.0</td>\n      <td>1.948</td>\n      <td>1.127</td>\n      <td>516476.0</td>\n      <td>2480.0</td>\n      <td>29.415</td>\n      <td>290.0</td>\n      <td>890.0</td>\n      <td>2480.0</td>\n    </tr>\n    <tr>\n      <th>1</th>\n      <td>1.0</td>\n      <td>1.0</td>\n      <td>0.0</td>\n      <td>0.0</td>\n      <td>0.0</td>\n      <td>0.0</td>\n      <td>0.0</td>\n      <td>0.0</td>\n      <td>0.0</td>\n      <td>0.0</td>\n      <td>...</td>\n      <td>564.0</td>\n      <td>295.0</td>\n      <td>2.957</td>\n      <td>2.786</td>\n      <td>753223.0</td>\n      <td>3479.0</td>\n      <td>28.795</td>\n      <td>913.0</td>\n      <td>1688.0</td>\n      <td>3479.0</td>\n    </tr>\n    <tr>\n      <th>2</th>\n      <td>1.0</td>\n      <td>1.0</td>\n      <td>0.0</td>\n      <td>0.0</td>\n      <td>0.0</td>\n      <td>0.0</td>\n      <td>0.0</td>\n      <td>0.0</td>\n      <td>0.0</td>\n      <td>0.0</td>\n      <td>...</td>\n      <td>980.0</td>\n      <td>444.0</td>\n      <td>6.070</td>\n      <td>3.872</td>\n      <td>1685.0</td>\n      <td>2751.0</td>\n      <td>33.657</td>\n      <td>3536.0</td>\n      <td>3064.0</td>\n      <td>2751.0</td>\n    </tr>\n    <tr>\n      <th>3</th>\n      <td>1.0</td>\n      <td>1.0</td>\n      <td>0.0</td>\n      <td>0.0</td>\n      <td>0.0</td>\n      <td>0.0</td>\n      <td>0.0</td>\n      <td>0.0</td>\n      <td>0.0</td>\n      <td>0.0</td>\n      <td>...</td>\n      <td>1753.0</td>\n      <td>860.0</td>\n      <td>6.105</td>\n      <td>6.118</td>\n      <td>3963.0</td>\n      <td>3979.0</td>\n      <td>43.839</td>\n      <td>7164.0</td>\n      <td>5242.0</td>\n      <td>3979.0</td>\n    </tr>\n    <tr>\n      <th>4</th>\n      <td>1.0</td>\n      <td>1.0</td>\n      <td>0.0</td>\n      <td>0.0</td>\n      <td>0.0</td>\n      <td>0.0</td>\n      <td>0.0</td>\n      <td>0.0</td>\n      <td>0.0</td>\n      <td>0.0</td>\n      <td>...</td>\n      <td>851.0</td>\n      <td>316.0</td>\n      <td>7.099</td>\n      <td>3.109</td>\n      <td>16427.0</td>\n      <td>2876.0</td>\n      <td>34.996</td>\n      <td>1487.0</td>\n      <td>3145.0</td>\n      <td>2876.0</td>\n    </tr>\n  </tbody>\n</table>\n<p>5 rows × 35 columns</p>\n</div>"
          },
          "metadata": {}
        }
      ],
      "execution_count": 2,
      "metadata": {
        "jupyter": {
          "source_hidden": false,
          "outputs_hidden": false
        },
        "nteract": {
          "transient": {
            "deleting": false
          }
        },
        "gather": {
          "logged": 1686855502267
        }
      }
    },
    {
      "cell_type": "code",
      "source": [
        "y = df['BENE_SEX_IDENT_CD'].values.astype('int')\r\n",
        "y"
      ],
      "outputs": [
        {
          "output_type": "execute_result",
          "execution_count": 3,
          "data": {
            "text/plain": "array([1, 1, 1, ..., 2, 2, 2])"
          },
          "metadata": {}
        }
      ],
      "execution_count": 3,
      "metadata": {
        "jupyter": {
          "source_hidden": false,
          "outputs_hidden": false
        },
        "nteract": {
          "transient": {
            "deleting": false
          }
        },
        "gather": {
          "logged": 1686855504872
        }
      }
    },
    {
      "cell_type": "code",
      "source": [
        "df[['BENE_SEX_IDENT_CD']].value_counts()"
      ],
      "outputs": [
        {
          "output_type": "execute_result",
          "execution_count": 4,
          "data": {
            "text/plain": "BENE_SEX_IDENT_CD\n2.0                  9691\n1.0                  6826\ndtype: int64"
          },
          "metadata": {}
        }
      ],
      "execution_count": 4,
      "metadata": {
        "jupyter": {
          "source_hidden": false,
          "outputs_hidden": false
        },
        "nteract": {
          "transient": {
            "deleting": false
          }
        },
        "gather": {
          "logged": 1686855508197
        }
      }
    },
    {
      "cell_type": "code",
      "source": [
        "len(y)"
      ],
      "outputs": [
        {
          "output_type": "execute_result",
          "execution_count": 5,
          "data": {
            "text/plain": "16517"
          },
          "metadata": {}
        }
      ],
      "execution_count": 5,
      "metadata": {
        "jupyter": {
          "source_hidden": false,
          "outputs_hidden": false
        },
        "nteract": {
          "transient": {
            "deleting": false
          }
        },
        "gather": {
          "logged": 1686855510732
        }
      }
    },
    {
      "cell_type": "code",
      "source": [
        "S = []\r\n",
        "for i in range(len(y)):\r\n",
        "    if y[i]==1:\r\n",
        "        S = S + ['M']\r\n",
        "    else:\r\n",
        "        S = S + ['F']"
      ],
      "outputs": [],
      "execution_count": 6,
      "metadata": {
        "jupyter": {
          "source_hidden": false,
          "outputs_hidden": false
        },
        "nteract": {
          "transient": {
            "deleting": false
          }
        },
        "gather": {
          "logged": 1686855513130
        }
      }
    },
    {
      "cell_type": "code",
      "source": [
        "df['BENE_SEX_IDENT_CD'] = S\r\n",
        "df.rename(columns = {\"BENE_SEX_IDENT_CD\":\"Sex\", \"BENE_AGE_CAT_CD\":\"Age Range\"}, inplace=True)\r\n"
      ],
      "outputs": [],
      "execution_count": 7,
      "metadata": {
        "jupyter": {
          "source_hidden": false,
          "outputs_hidden": false
        },
        "nteract": {
          "transient": {
            "deleting": false
          }
        },
        "gather": {
          "logged": 1686855515766
        }
      }
    },
    {
      "cell_type": "code",
      "source": [
        "df = df.iloc[:,:35]\r\n",
        "df.head()"
      ],
      "outputs": [
        {
          "output_type": "execute_result",
          "execution_count": 8,
          "data": {
            "text/plain": "  Sex  Age Range  CC_ALZHDMTA  CC_CANCER  CC_CHF  CC_CHRNKIDN  CC_COPD  \\\n0   M        1.0          0.0        0.0     0.0          0.0      0.0   \n1   M        1.0          0.0        0.0     0.0          0.0      0.0   \n2   M        1.0          0.0        0.0     0.0          0.0      0.0   \n3   M        1.0          0.0        0.0     0.0          0.0      0.0   \n4   M        1.0          0.0        0.0     0.0          0.0      0.0   \n\n   CC_DEPRESSN  CC_DIABETES  CC_ISCHMCHT  ...  AVE_OP_PAY_PB_EQ_12  \\\n0          0.0          0.0          0.0  ...                278.0   \n1          0.0          0.0          0.0  ...                564.0   \n2          0.0          0.0          0.0  ...                980.0   \n3          0.0          0.0          0.0  ...               1753.0   \n4          0.0          0.0          0.0  ...                851.0   \n\n   AVE_OTH_PAY_PB_EQ_12  AVE_CA_VST_PB_EQ_12  AVE_OP_VST_PB_EQ_12  \\\n0                 139.0                1.948                1.127   \n1                 295.0                2.957                2.786   \n2                 444.0                6.070                3.872   \n3                 860.0                6.105                6.118   \n4                 316.0                7.099                3.109   \n\n   BENE_COUNT_PD_EQ_12  AVE_PDE_CST_PD_EQ_12  AVE_PDE_PD_EQ_12  \\\n0             516476.0                2480.0            29.415   \n1             753223.0                3479.0            28.795   \n2               1685.0                2751.0            33.657   \n3               3963.0                3979.0            43.839   \n4              16427.0                2876.0            34.996   \n\n   Plan_A_Total_Cost  Plan_B_Total_Cost  Plan_D_Total_Cost  \n0              290.0              890.0             2480.0  \n1              913.0             1688.0             3479.0  \n2             3536.0             3064.0             2751.0  \n3             7164.0             5242.0             3979.0  \n4             1487.0             3145.0             2876.0  \n\n[5 rows x 35 columns]",
            "text/html": "<div>\n<style scoped>\n    .dataframe tbody tr th:only-of-type {\n        vertical-align: middle;\n    }\n\n    .dataframe tbody tr th {\n        vertical-align: top;\n    }\n\n    .dataframe thead th {\n        text-align: right;\n    }\n</style>\n<table border=\"1\" class=\"dataframe\">\n  <thead>\n    <tr style=\"text-align: right;\">\n      <th></th>\n      <th>Sex</th>\n      <th>Age Range</th>\n      <th>CC_ALZHDMTA</th>\n      <th>CC_CANCER</th>\n      <th>CC_CHF</th>\n      <th>CC_CHRNKIDN</th>\n      <th>CC_COPD</th>\n      <th>CC_DEPRESSN</th>\n      <th>CC_DIABETES</th>\n      <th>CC_ISCHMCHT</th>\n      <th>...</th>\n      <th>AVE_OP_PAY_PB_EQ_12</th>\n      <th>AVE_OTH_PAY_PB_EQ_12</th>\n      <th>AVE_CA_VST_PB_EQ_12</th>\n      <th>AVE_OP_VST_PB_EQ_12</th>\n      <th>BENE_COUNT_PD_EQ_12</th>\n      <th>AVE_PDE_CST_PD_EQ_12</th>\n      <th>AVE_PDE_PD_EQ_12</th>\n      <th>Plan_A_Total_Cost</th>\n      <th>Plan_B_Total_Cost</th>\n      <th>Plan_D_Total_Cost</th>\n    </tr>\n  </thead>\n  <tbody>\n    <tr>\n      <th>0</th>\n      <td>M</td>\n      <td>1.0</td>\n      <td>0.0</td>\n      <td>0.0</td>\n      <td>0.0</td>\n      <td>0.0</td>\n      <td>0.0</td>\n      <td>0.0</td>\n      <td>0.0</td>\n      <td>0.0</td>\n      <td>...</td>\n      <td>278.0</td>\n      <td>139.0</td>\n      <td>1.948</td>\n      <td>1.127</td>\n      <td>516476.0</td>\n      <td>2480.0</td>\n      <td>29.415</td>\n      <td>290.0</td>\n      <td>890.0</td>\n      <td>2480.0</td>\n    </tr>\n    <tr>\n      <th>1</th>\n      <td>M</td>\n      <td>1.0</td>\n      <td>0.0</td>\n      <td>0.0</td>\n      <td>0.0</td>\n      <td>0.0</td>\n      <td>0.0</td>\n      <td>0.0</td>\n      <td>0.0</td>\n      <td>0.0</td>\n      <td>...</td>\n      <td>564.0</td>\n      <td>295.0</td>\n      <td>2.957</td>\n      <td>2.786</td>\n      <td>753223.0</td>\n      <td>3479.0</td>\n      <td>28.795</td>\n      <td>913.0</td>\n      <td>1688.0</td>\n      <td>3479.0</td>\n    </tr>\n    <tr>\n      <th>2</th>\n      <td>M</td>\n      <td>1.0</td>\n      <td>0.0</td>\n      <td>0.0</td>\n      <td>0.0</td>\n      <td>0.0</td>\n      <td>0.0</td>\n      <td>0.0</td>\n      <td>0.0</td>\n      <td>0.0</td>\n      <td>...</td>\n      <td>980.0</td>\n      <td>444.0</td>\n      <td>6.070</td>\n      <td>3.872</td>\n      <td>1685.0</td>\n      <td>2751.0</td>\n      <td>33.657</td>\n      <td>3536.0</td>\n      <td>3064.0</td>\n      <td>2751.0</td>\n    </tr>\n    <tr>\n      <th>3</th>\n      <td>M</td>\n      <td>1.0</td>\n      <td>0.0</td>\n      <td>0.0</td>\n      <td>0.0</td>\n      <td>0.0</td>\n      <td>0.0</td>\n      <td>0.0</td>\n      <td>0.0</td>\n      <td>0.0</td>\n      <td>...</td>\n      <td>1753.0</td>\n      <td>860.0</td>\n      <td>6.105</td>\n      <td>6.118</td>\n      <td>3963.0</td>\n      <td>3979.0</td>\n      <td>43.839</td>\n      <td>7164.0</td>\n      <td>5242.0</td>\n      <td>3979.0</td>\n    </tr>\n    <tr>\n      <th>4</th>\n      <td>M</td>\n      <td>1.0</td>\n      <td>0.0</td>\n      <td>0.0</td>\n      <td>0.0</td>\n      <td>0.0</td>\n      <td>0.0</td>\n      <td>0.0</td>\n      <td>0.0</td>\n      <td>0.0</td>\n      <td>...</td>\n      <td>851.0</td>\n      <td>316.0</td>\n      <td>7.099</td>\n      <td>3.109</td>\n      <td>16427.0</td>\n      <td>2876.0</td>\n      <td>34.996</td>\n      <td>1487.0</td>\n      <td>3145.0</td>\n      <td>2876.0</td>\n    </tr>\n  </tbody>\n</table>\n<p>5 rows × 35 columns</p>\n</div>"
          },
          "metadata": {}
        }
      ],
      "execution_count": 8,
      "metadata": {
        "jupyter": {
          "source_hidden": false,
          "outputs_hidden": false
        },
        "nteract": {
          "transient": {
            "deleting": false
          }
        },
        "gather": {
          "logged": 1686855517729
        }
      }
    },
    {
      "cell_type": "code",
      "source": [
        "z = df['Age Range'].values.astype('int')\r\n",
        "z"
      ],
      "outputs": [
        {
          "output_type": "execute_result",
          "execution_count": 9,
          "data": {
            "text/plain": "array([1, 1, 1, ..., 6, 6, 6])"
          },
          "metadata": {}
        }
      ],
      "execution_count": 9,
      "metadata": {
        "jupyter": {
          "source_hidden": false,
          "outputs_hidden": false
        },
        "nteract": {
          "transient": {
            "deleting": false
          }
        },
        "gather": {
          "logged": 1686855520144
        }
      }
    },
    {
      "cell_type": "code",
      "source": [
        "A = []\r\n",
        "for i in range(len(z)):\r\n",
        "    if z[i]==1:\r\n",
        "        A = A + ['Under 65']\r\n",
        "    elif z[i]==2:\r\n",
        "        A = A + ['65-69']\r\n",
        "    elif z[i]==3:\r\n",
        "        A = A + ['70-74']\r\n",
        "    elif z[i]==4:\r\n",
        "        A = A + ['75-79']\r\n",
        "    elif z[i]==5:\r\n",
        "        A = A + ['80-84']\r\n",
        "    else:\r\n",
        "        A = A + ['85 and above']"
      ],
      "outputs": [],
      "execution_count": 10,
      "metadata": {
        "jupyter": {
          "source_hidden": false,
          "outputs_hidden": false
        },
        "nteract": {
          "transient": {
            "deleting": false
          }
        },
        "gather": {
          "logged": 1686855522650
        }
      }
    },
    {
      "cell_type": "code",
      "source": [
        "df['Age Range'] = A\r\n",
        "df.head()"
      ],
      "outputs": [
        {
          "output_type": "execute_result",
          "execution_count": 11,
          "data": {
            "text/plain": "  Sex Age Range  CC_ALZHDMTA  CC_CANCER  CC_CHF  CC_CHRNKIDN  CC_COPD  \\\n0   M  Under 65          0.0        0.0     0.0          0.0      0.0   \n1   M  Under 65          0.0        0.0     0.0          0.0      0.0   \n2   M  Under 65          0.0        0.0     0.0          0.0      0.0   \n3   M  Under 65          0.0        0.0     0.0          0.0      0.0   \n4   M  Under 65          0.0        0.0     0.0          0.0      0.0   \n\n   CC_DEPRESSN  CC_DIABETES  CC_ISCHMCHT  ...  AVE_OP_PAY_PB_EQ_12  \\\n0          0.0          0.0          0.0  ...                278.0   \n1          0.0          0.0          0.0  ...                564.0   \n2          0.0          0.0          0.0  ...                980.0   \n3          0.0          0.0          0.0  ...               1753.0   \n4          0.0          0.0          0.0  ...                851.0   \n\n   AVE_OTH_PAY_PB_EQ_12  AVE_CA_VST_PB_EQ_12  AVE_OP_VST_PB_EQ_12  \\\n0                 139.0                1.948                1.127   \n1                 295.0                2.957                2.786   \n2                 444.0                6.070                3.872   \n3                 860.0                6.105                6.118   \n4                 316.0                7.099                3.109   \n\n   BENE_COUNT_PD_EQ_12  AVE_PDE_CST_PD_EQ_12  AVE_PDE_PD_EQ_12  \\\n0             516476.0                2480.0            29.415   \n1             753223.0                3479.0            28.795   \n2               1685.0                2751.0            33.657   \n3               3963.0                3979.0            43.839   \n4              16427.0                2876.0            34.996   \n\n   Plan_A_Total_Cost  Plan_B_Total_Cost  Plan_D_Total_Cost  \n0              290.0              890.0             2480.0  \n1              913.0             1688.0             3479.0  \n2             3536.0             3064.0             2751.0  \n3             7164.0             5242.0             3979.0  \n4             1487.0             3145.0             2876.0  \n\n[5 rows x 35 columns]",
            "text/html": "<div>\n<style scoped>\n    .dataframe tbody tr th:only-of-type {\n        vertical-align: middle;\n    }\n\n    .dataframe tbody tr th {\n        vertical-align: top;\n    }\n\n    .dataframe thead th {\n        text-align: right;\n    }\n</style>\n<table border=\"1\" class=\"dataframe\">\n  <thead>\n    <tr style=\"text-align: right;\">\n      <th></th>\n      <th>Sex</th>\n      <th>Age Range</th>\n      <th>CC_ALZHDMTA</th>\n      <th>CC_CANCER</th>\n      <th>CC_CHF</th>\n      <th>CC_CHRNKIDN</th>\n      <th>CC_COPD</th>\n      <th>CC_DEPRESSN</th>\n      <th>CC_DIABETES</th>\n      <th>CC_ISCHMCHT</th>\n      <th>...</th>\n      <th>AVE_OP_PAY_PB_EQ_12</th>\n      <th>AVE_OTH_PAY_PB_EQ_12</th>\n      <th>AVE_CA_VST_PB_EQ_12</th>\n      <th>AVE_OP_VST_PB_EQ_12</th>\n      <th>BENE_COUNT_PD_EQ_12</th>\n      <th>AVE_PDE_CST_PD_EQ_12</th>\n      <th>AVE_PDE_PD_EQ_12</th>\n      <th>Plan_A_Total_Cost</th>\n      <th>Plan_B_Total_Cost</th>\n      <th>Plan_D_Total_Cost</th>\n    </tr>\n  </thead>\n  <tbody>\n    <tr>\n      <th>0</th>\n      <td>M</td>\n      <td>Under 65</td>\n      <td>0.0</td>\n      <td>0.0</td>\n      <td>0.0</td>\n      <td>0.0</td>\n      <td>0.0</td>\n      <td>0.0</td>\n      <td>0.0</td>\n      <td>0.0</td>\n      <td>...</td>\n      <td>278.0</td>\n      <td>139.0</td>\n      <td>1.948</td>\n      <td>1.127</td>\n      <td>516476.0</td>\n      <td>2480.0</td>\n      <td>29.415</td>\n      <td>290.0</td>\n      <td>890.0</td>\n      <td>2480.0</td>\n    </tr>\n    <tr>\n      <th>1</th>\n      <td>M</td>\n      <td>Under 65</td>\n      <td>0.0</td>\n      <td>0.0</td>\n      <td>0.0</td>\n      <td>0.0</td>\n      <td>0.0</td>\n      <td>0.0</td>\n      <td>0.0</td>\n      <td>0.0</td>\n      <td>...</td>\n      <td>564.0</td>\n      <td>295.0</td>\n      <td>2.957</td>\n      <td>2.786</td>\n      <td>753223.0</td>\n      <td>3479.0</td>\n      <td>28.795</td>\n      <td>913.0</td>\n      <td>1688.0</td>\n      <td>3479.0</td>\n    </tr>\n    <tr>\n      <th>2</th>\n      <td>M</td>\n      <td>Under 65</td>\n      <td>0.0</td>\n      <td>0.0</td>\n      <td>0.0</td>\n      <td>0.0</td>\n      <td>0.0</td>\n      <td>0.0</td>\n      <td>0.0</td>\n      <td>0.0</td>\n      <td>...</td>\n      <td>980.0</td>\n      <td>444.0</td>\n      <td>6.070</td>\n      <td>3.872</td>\n      <td>1685.0</td>\n      <td>2751.0</td>\n      <td>33.657</td>\n      <td>3536.0</td>\n      <td>3064.0</td>\n      <td>2751.0</td>\n    </tr>\n    <tr>\n      <th>3</th>\n      <td>M</td>\n      <td>Under 65</td>\n      <td>0.0</td>\n      <td>0.0</td>\n      <td>0.0</td>\n      <td>0.0</td>\n      <td>0.0</td>\n      <td>0.0</td>\n      <td>0.0</td>\n      <td>0.0</td>\n      <td>...</td>\n      <td>1753.0</td>\n      <td>860.0</td>\n      <td>6.105</td>\n      <td>6.118</td>\n      <td>3963.0</td>\n      <td>3979.0</td>\n      <td>43.839</td>\n      <td>7164.0</td>\n      <td>5242.0</td>\n      <td>3979.0</td>\n    </tr>\n    <tr>\n      <th>4</th>\n      <td>M</td>\n      <td>Under 65</td>\n      <td>0.0</td>\n      <td>0.0</td>\n      <td>0.0</td>\n      <td>0.0</td>\n      <td>0.0</td>\n      <td>0.0</td>\n      <td>0.0</td>\n      <td>0.0</td>\n      <td>...</td>\n      <td>851.0</td>\n      <td>316.0</td>\n      <td>7.099</td>\n      <td>3.109</td>\n      <td>16427.0</td>\n      <td>2876.0</td>\n      <td>34.996</td>\n      <td>1487.0</td>\n      <td>3145.0</td>\n      <td>2876.0</td>\n    </tr>\n  </tbody>\n</table>\n<p>5 rows × 35 columns</p>\n</div>"
          },
          "metadata": {}
        }
      ],
      "execution_count": 11,
      "metadata": {
        "jupyter": {
          "source_hidden": false,
          "outputs_hidden": false
        },
        "nteract": {
          "transient": {
            "deleting": false
          }
        },
        "gather": {
          "logged": 1686855526239
        }
      }
    },
    {
      "cell_type": "code",
      "source": [
        "df.columns"
      ],
      "outputs": [
        {
          "output_type": "execute_result",
          "execution_count": 12,
          "data": {
            "text/plain": "Index(['Sex', 'Age Range', 'CC_ALZHDMTA', 'CC_CANCER', 'CC_CHF', 'CC_CHRNKIDN',\n       'CC_COPD', 'CC_DEPRESSN', 'CC_DIABETES', 'CC_ISCHMCHT', 'CC_OSTEOPRS',\n       'CC_RA_OA', 'CC_STRKETIA', 'CC_2_OR_MORE', 'DUAL_STUS',\n       'BENE_COUNT_PA_EQ_12', 'AVE_PA_PAY_PA_EQ_12', 'AVE_IP_PAY_PA_EQ_12',\n       'AVE_SNF_PAY_PA_EQ_12', 'AVE_OTH_PAY_PA_EQ_12', 'AVE_IP_ADM_PA_EQ_12',\n       'AVE_SNF_DAYS_PA_EQ_12', 'BENE_COUNT_PB_EQ_12', 'AVE_PB_PAY_PB_EQ_12',\n       'AVE_CA_PAY_PB_EQ_12', 'AVE_OP_PAY_PB_EQ_12', 'AVE_OTH_PAY_PB_EQ_12',\n       'AVE_CA_VST_PB_EQ_12', 'AVE_OP_VST_PB_EQ_12', 'BENE_COUNT_PD_EQ_12',\n       'AVE_PDE_CST_PD_EQ_12', 'AVE_PDE_PD_EQ_12', 'Plan_A_Total_Cost',\n       'Plan_B_Total_Cost', 'Plan_D_Total_Cost'],\n      dtype='object')"
          },
          "metadata": {}
        }
      ],
      "execution_count": 12,
      "metadata": {
        "jupyter": {
          "source_hidden": false,
          "outputs_hidden": false
        },
        "nteract": {
          "transient": {
            "deleting": false
          }
        },
        "gather": {
          "logged": 1686855532740
        }
      }
    },
    {
      "cell_type": "code",
      "source": [
        "df2 = df"
      ],
      "outputs": [],
      "execution_count": 13,
      "metadata": {
        "jupyter": {
          "source_hidden": false,
          "outputs_hidden": false
        },
        "nteract": {
          "transient": {
            "deleting": false
          }
        },
        "gather": {
          "logged": 1686855535963
        }
      }
    },
    {
      "cell_type": "code",
      "source": [
        "df2.columns = [\"Sex\",\"Age Range\", \"Alzheimer's/Dementia\", \"Cancer\", \"Heart Failure\", \"Chronic Kidney Disease\",\r\n",
        "\"Chronic Obstructive Pulmonary Disease\", \"Depression\", \"Diabetes\", \"Ischemic Heart Disease\", \"Osteoporosis\",\r\n",
        "\"Rheumatoid Arthritis/Osteoarthritis Arthritis\", \"Stroke/Transient Ischemic Attack\", \"Two or more Conditions\",\r\n",
        "\"Dual Eligibility Status\", \"Count of Beneficiaries (Part A)\", \"Average Medicare Payment for Part A per Beneficiary\",\r\n",
        "\"In Patient Services Payment\", \"Skilled Nursing Facility Services Payments\",\r\n",
        "\"Other Services Payments Part A\",\"In Patient Admissions\", \"SNF Covered Days\",\"Count of Beneficiaries (Part B)\",\r\n",
        "\"Average Medicare Payment for Part B per Beneficiary\", \"Carrier/Physician Payments\", \"Outpatient Services Payment\",\r\n",
        "\"Other Services Payments Part B\", \"Carrier/Physician Visits\",\"Outpatient Visits\",\"Count of Beneficiaries (Part D)\",\r\n",
        "\"Drug Cost\", \"Prescriptions Per Beneficiary\", \"Plan A Total Cost\", \"Plan B Total Cost\", \"Plan D Total Cost\"]"
      ],
      "outputs": [],
      "execution_count": 14,
      "metadata": {
        "jupyter": {
          "source_hidden": false,
          "outputs_hidden": false
        },
        "nteract": {
          "transient": {
            "deleting": false
          }
        },
        "gather": {
          "logged": 1686855538005
        }
      }
    },
    {
      "cell_type": "code",
      "source": [
        "df2.head()"
      ],
      "outputs": [
        {
          "output_type": "execute_result",
          "execution_count": 15,
          "data": {
            "text/plain": "  Sex Age Range  Alzheimer's/Dementia  Cancer  Heart Failure  \\\n0   M  Under 65                   0.0     0.0            0.0   \n1   M  Under 65                   0.0     0.0            0.0   \n2   M  Under 65                   0.0     0.0            0.0   \n3   M  Under 65                   0.0     0.0            0.0   \n4   M  Under 65                   0.0     0.0            0.0   \n\n   Chronic Kidney Disease  Chronic Obstructive Pulmonary Disease  Depression  \\\n0                     0.0                                    0.0         0.0   \n1                     0.0                                    0.0         0.0   \n2                     0.0                                    0.0         0.0   \n3                     0.0                                    0.0         0.0   \n4                     0.0                                    0.0         0.0   \n\n   Diabetes  Ischemic Heart Disease  ...  Outpatient Services Payment  \\\n0       0.0                     0.0  ...                        278.0   \n1       0.0                     0.0  ...                        564.0   \n2       0.0                     0.0  ...                        980.0   \n3       0.0                     0.0  ...                       1753.0   \n4       0.0                     0.0  ...                        851.0   \n\n   Other Services Payments Part B  Carrier/Physician Visits  \\\n0                           139.0                     1.948   \n1                           295.0                     2.957   \n2                           444.0                     6.070   \n3                           860.0                     6.105   \n4                           316.0                     7.099   \n\n   Outpatient Visits  Count of Beneficiaries (Part D)  Drug Cost  \\\n0              1.127                         516476.0     2480.0   \n1              2.786                         753223.0     3479.0   \n2              3.872                           1685.0     2751.0   \n3              6.118                           3963.0     3979.0   \n4              3.109                          16427.0     2876.0   \n\n   Prescriptions Per Beneficiary  Plan A Total Cost  Plan B Total Cost  \\\n0                         29.415              290.0              890.0   \n1                         28.795              913.0             1688.0   \n2                         33.657             3536.0             3064.0   \n3                         43.839             7164.0             5242.0   \n4                         34.996             1487.0             3145.0   \n\n   Plan D Total Cost  \n0             2480.0  \n1             3479.0  \n2             2751.0  \n3             3979.0  \n4             2876.0  \n\n[5 rows x 35 columns]",
            "text/html": "<div>\n<style scoped>\n    .dataframe tbody tr th:only-of-type {\n        vertical-align: middle;\n    }\n\n    .dataframe tbody tr th {\n        vertical-align: top;\n    }\n\n    .dataframe thead th {\n        text-align: right;\n    }\n</style>\n<table border=\"1\" class=\"dataframe\">\n  <thead>\n    <tr style=\"text-align: right;\">\n      <th></th>\n      <th>Sex</th>\n      <th>Age Range</th>\n      <th>Alzheimer's/Dementia</th>\n      <th>Cancer</th>\n      <th>Heart Failure</th>\n      <th>Chronic Kidney Disease</th>\n      <th>Chronic Obstructive Pulmonary Disease</th>\n      <th>Depression</th>\n      <th>Diabetes</th>\n      <th>Ischemic Heart Disease</th>\n      <th>...</th>\n      <th>Outpatient Services Payment</th>\n      <th>Other Services Payments Part B</th>\n      <th>Carrier/Physician Visits</th>\n      <th>Outpatient Visits</th>\n      <th>Count of Beneficiaries (Part D)</th>\n      <th>Drug Cost</th>\n      <th>Prescriptions Per Beneficiary</th>\n      <th>Plan A Total Cost</th>\n      <th>Plan B Total Cost</th>\n      <th>Plan D Total Cost</th>\n    </tr>\n  </thead>\n  <tbody>\n    <tr>\n      <th>0</th>\n      <td>M</td>\n      <td>Under 65</td>\n      <td>0.0</td>\n      <td>0.0</td>\n      <td>0.0</td>\n      <td>0.0</td>\n      <td>0.0</td>\n      <td>0.0</td>\n      <td>0.0</td>\n      <td>0.0</td>\n      <td>...</td>\n      <td>278.0</td>\n      <td>139.0</td>\n      <td>1.948</td>\n      <td>1.127</td>\n      <td>516476.0</td>\n      <td>2480.0</td>\n      <td>29.415</td>\n      <td>290.0</td>\n      <td>890.0</td>\n      <td>2480.0</td>\n    </tr>\n    <tr>\n      <th>1</th>\n      <td>M</td>\n      <td>Under 65</td>\n      <td>0.0</td>\n      <td>0.0</td>\n      <td>0.0</td>\n      <td>0.0</td>\n      <td>0.0</td>\n      <td>0.0</td>\n      <td>0.0</td>\n      <td>0.0</td>\n      <td>...</td>\n      <td>564.0</td>\n      <td>295.0</td>\n      <td>2.957</td>\n      <td>2.786</td>\n      <td>753223.0</td>\n      <td>3479.0</td>\n      <td>28.795</td>\n      <td>913.0</td>\n      <td>1688.0</td>\n      <td>3479.0</td>\n    </tr>\n    <tr>\n      <th>2</th>\n      <td>M</td>\n      <td>Under 65</td>\n      <td>0.0</td>\n      <td>0.0</td>\n      <td>0.0</td>\n      <td>0.0</td>\n      <td>0.0</td>\n      <td>0.0</td>\n      <td>0.0</td>\n      <td>0.0</td>\n      <td>...</td>\n      <td>980.0</td>\n      <td>444.0</td>\n      <td>6.070</td>\n      <td>3.872</td>\n      <td>1685.0</td>\n      <td>2751.0</td>\n      <td>33.657</td>\n      <td>3536.0</td>\n      <td>3064.0</td>\n      <td>2751.0</td>\n    </tr>\n    <tr>\n      <th>3</th>\n      <td>M</td>\n      <td>Under 65</td>\n      <td>0.0</td>\n      <td>0.0</td>\n      <td>0.0</td>\n      <td>0.0</td>\n      <td>0.0</td>\n      <td>0.0</td>\n      <td>0.0</td>\n      <td>0.0</td>\n      <td>...</td>\n      <td>1753.0</td>\n      <td>860.0</td>\n      <td>6.105</td>\n      <td>6.118</td>\n      <td>3963.0</td>\n      <td>3979.0</td>\n      <td>43.839</td>\n      <td>7164.0</td>\n      <td>5242.0</td>\n      <td>3979.0</td>\n    </tr>\n    <tr>\n      <th>4</th>\n      <td>M</td>\n      <td>Under 65</td>\n      <td>0.0</td>\n      <td>0.0</td>\n      <td>0.0</td>\n      <td>0.0</td>\n      <td>0.0</td>\n      <td>0.0</td>\n      <td>0.0</td>\n      <td>0.0</td>\n      <td>...</td>\n      <td>851.0</td>\n      <td>316.0</td>\n      <td>7.099</td>\n      <td>3.109</td>\n      <td>16427.0</td>\n      <td>2876.0</td>\n      <td>34.996</td>\n      <td>1487.0</td>\n      <td>3145.0</td>\n      <td>2876.0</td>\n    </tr>\n  </tbody>\n</table>\n<p>5 rows × 35 columns</p>\n</div>"
          },
          "metadata": {}
        }
      ],
      "execution_count": 15,
      "metadata": {
        "jupyter": {
          "source_hidden": false,
          "outputs_hidden": false
        },
        "nteract": {
          "transient": {
            "deleting": false
          }
        },
        "gather": {
          "logged": 1686855543257
        }
      }
    },
    {
      "cell_type": "code",
      "source": [
        "RShinydf = df2.drop([\"Alzheimer's/Dementia\", \"Cancer\", \"Heart Failure\", \"Chronic Kidney Disease\",\r\n",
        "\"Chronic Obstructive Pulmonary Disease\", \"Depression\", \"Diabetes\", \"Ischemic Heart Disease\", \"Osteoporosis\",\r\n",
        "\"Rheumatoid Arthritis/Osteoarthritis Arthritis\", \"Stroke/Transient Ischemic Attack\", \"Two or more Conditions\",\r\n",
        "\"Dual Eligibility Status\"], axis=1)\r\n",
        "\r\n",
        "RShinydf.head()"
      ],
      "outputs": [
        {
          "output_type": "execute_result",
          "execution_count": 16,
          "data": {
            "text/plain": "  Sex Age Range  Count of Beneficiaries (Part A)  \\\n0   M  Under 65                         982758.0   \n1   M  Under 65                         613282.0   \n2   M  Under 65                           4265.0   \n3   M  Under 65                           3982.0   \n4   M  Under 65                          37329.0   \n\n   Average Medicare Payment for Part A per Beneficiary  \\\n0                                              290.0     \n1                                              913.0     \n2                                             3536.0     \n3                                             7164.0     \n4                                             1487.0     \n\n   In Patient Services Payment  Skilled Nursing Facility Services Payments  \\\n0                        256.0                                         8.0   \n1                        843.0                                        36.0   \n2                       3109.0                                       229.0   \n3                       5990.0                                       893.0   \n4                       1317.0                                        66.0   \n\n   Other Services Payments Part A  In Patient Admissions  SNF Covered Days  \\\n0                            26.0                  0.032             0.019   \n1                            34.0                  0.092             0.095   \n2                           198.0                  0.360             0.453   \n3                           281.0                  0.509             2.190   \n4                           104.0                  0.142             0.147   \n\n   Count of Beneficiaries (Part B)  ...  Outpatient Services Payment  \\\n0                         637117.0  ...                        278.0   \n1                         581822.0  ...                        564.0   \n2                           4024.0  ...                        980.0   \n3                           3865.0  ...                       1753.0   \n4                          36156.0  ...                        851.0   \n\n   Other Services Payments Part B  Carrier/Physician Visits  \\\n0                           139.0                     1.948   \n1                           295.0                     2.957   \n2                           444.0                     6.070   \n3                           860.0                     6.105   \n4                           316.0                     7.099   \n\n   Outpatient Visits  Count of Beneficiaries (Part D)  Drug Cost  \\\n0              1.127                         516476.0     2480.0   \n1              2.786                         753223.0     3479.0   \n2              3.872                           1685.0     2751.0   \n3              6.118                           3963.0     3979.0   \n4              3.109                          16427.0     2876.0   \n\n   Prescriptions Per Beneficiary  Plan A Total Cost  Plan B Total Cost  \\\n0                         29.415              290.0              890.0   \n1                         28.795              913.0             1688.0   \n2                         33.657             3536.0             3064.0   \n3                         43.839             7164.0             5242.0   \n4                         34.996             1487.0             3145.0   \n\n   Plan D Total Cost  \n0             2480.0  \n1             3479.0  \n2             2751.0  \n3             3979.0  \n4             2876.0  \n\n[5 rows x 22 columns]",
            "text/html": "<div>\n<style scoped>\n    .dataframe tbody tr th:only-of-type {\n        vertical-align: middle;\n    }\n\n    .dataframe tbody tr th {\n        vertical-align: top;\n    }\n\n    .dataframe thead th {\n        text-align: right;\n    }\n</style>\n<table border=\"1\" class=\"dataframe\">\n  <thead>\n    <tr style=\"text-align: right;\">\n      <th></th>\n      <th>Sex</th>\n      <th>Age Range</th>\n      <th>Count of Beneficiaries (Part A)</th>\n      <th>Average Medicare Payment for Part A per Beneficiary</th>\n      <th>In Patient Services Payment</th>\n      <th>Skilled Nursing Facility Services Payments</th>\n      <th>Other Services Payments Part A</th>\n      <th>In Patient Admissions</th>\n      <th>SNF Covered Days</th>\n      <th>Count of Beneficiaries (Part B)</th>\n      <th>...</th>\n      <th>Outpatient Services Payment</th>\n      <th>Other Services Payments Part B</th>\n      <th>Carrier/Physician Visits</th>\n      <th>Outpatient Visits</th>\n      <th>Count of Beneficiaries (Part D)</th>\n      <th>Drug Cost</th>\n      <th>Prescriptions Per Beneficiary</th>\n      <th>Plan A Total Cost</th>\n      <th>Plan B Total Cost</th>\n      <th>Plan D Total Cost</th>\n    </tr>\n  </thead>\n  <tbody>\n    <tr>\n      <th>0</th>\n      <td>M</td>\n      <td>Under 65</td>\n      <td>982758.0</td>\n      <td>290.0</td>\n      <td>256.0</td>\n      <td>8.0</td>\n      <td>26.0</td>\n      <td>0.032</td>\n      <td>0.019</td>\n      <td>637117.0</td>\n      <td>...</td>\n      <td>278.0</td>\n      <td>139.0</td>\n      <td>1.948</td>\n      <td>1.127</td>\n      <td>516476.0</td>\n      <td>2480.0</td>\n      <td>29.415</td>\n      <td>290.0</td>\n      <td>890.0</td>\n      <td>2480.0</td>\n    </tr>\n    <tr>\n      <th>1</th>\n      <td>M</td>\n      <td>Under 65</td>\n      <td>613282.0</td>\n      <td>913.0</td>\n      <td>843.0</td>\n      <td>36.0</td>\n      <td>34.0</td>\n      <td>0.092</td>\n      <td>0.095</td>\n      <td>581822.0</td>\n      <td>...</td>\n      <td>564.0</td>\n      <td>295.0</td>\n      <td>2.957</td>\n      <td>2.786</td>\n      <td>753223.0</td>\n      <td>3479.0</td>\n      <td>28.795</td>\n      <td>913.0</td>\n      <td>1688.0</td>\n      <td>3479.0</td>\n    </tr>\n    <tr>\n      <th>2</th>\n      <td>M</td>\n      <td>Under 65</td>\n      <td>4265.0</td>\n      <td>3536.0</td>\n      <td>3109.0</td>\n      <td>229.0</td>\n      <td>198.0</td>\n      <td>0.360</td>\n      <td>0.453</td>\n      <td>4024.0</td>\n      <td>...</td>\n      <td>980.0</td>\n      <td>444.0</td>\n      <td>6.070</td>\n      <td>3.872</td>\n      <td>1685.0</td>\n      <td>2751.0</td>\n      <td>33.657</td>\n      <td>3536.0</td>\n      <td>3064.0</td>\n      <td>2751.0</td>\n    </tr>\n    <tr>\n      <th>3</th>\n      <td>M</td>\n      <td>Under 65</td>\n      <td>3982.0</td>\n      <td>7164.0</td>\n      <td>5990.0</td>\n      <td>893.0</td>\n      <td>281.0</td>\n      <td>0.509</td>\n      <td>2.190</td>\n      <td>3865.0</td>\n      <td>...</td>\n      <td>1753.0</td>\n      <td>860.0</td>\n      <td>6.105</td>\n      <td>6.118</td>\n      <td>3963.0</td>\n      <td>3979.0</td>\n      <td>43.839</td>\n      <td>7164.0</td>\n      <td>5242.0</td>\n      <td>3979.0</td>\n    </tr>\n    <tr>\n      <th>4</th>\n      <td>M</td>\n      <td>Under 65</td>\n      <td>37329.0</td>\n      <td>1487.0</td>\n      <td>1317.0</td>\n      <td>66.0</td>\n      <td>104.0</td>\n      <td>0.142</td>\n      <td>0.147</td>\n      <td>36156.0</td>\n      <td>...</td>\n      <td>851.0</td>\n      <td>316.0</td>\n      <td>7.099</td>\n      <td>3.109</td>\n      <td>16427.0</td>\n      <td>2876.0</td>\n      <td>34.996</td>\n      <td>1487.0</td>\n      <td>3145.0</td>\n      <td>2876.0</td>\n    </tr>\n  </tbody>\n</table>\n<p>5 rows × 22 columns</p>\n</div>"
          },
          "metadata": {}
        }
      ],
      "execution_count": 16,
      "metadata": {
        "jupyter": {
          "source_hidden": false,
          "outputs_hidden": false
        },
        "nteract": {
          "transient": {
            "deleting": false
          }
        },
        "gather": {
          "logged": 1686855556984
        }
      }
    },
    {
      "cell_type": "code",
      "source": [
        "RShinydf.to_csv(\"ShinyCCData.csv\", index=False) #This is the dataset we will upload to R"
      ],
      "outputs": [],
      "execution_count": 17,
      "metadata": {
        "jupyter": {
          "source_hidden": false,
          "outputs_hidden": false
        },
        "nteract": {
          "transient": {
            "deleting": false
          }
        },
        "gather": {
          "logged": 1686855581632
        }
      }
    },
    {
      "cell_type": "code",
      "source": [
        "agesumdf=RShinydf.groupby([\"Age Range\", \"Sex\"])[\"Count of Beneficiaries (Part A)\",\"Count of Beneficiaries (Part B)\"\r\n",
        ",\"Count of Beneficiaries (Part D)\"].sum().astype('int')"
      ],
      "outputs": [],
      "execution_count": null,
      "metadata": {
        "jupyter": {
          "source_hidden": false,
          "outputs_hidden": false
        },
        "nteract": {
          "transient": {
            "deleting": false
          }
        },
        "gather": {
          "logged": 1686855720369
        }
      }
    },
    {
      "cell_type": "code",
      "source": [
        "agesumdf.head(12) #just checking group sizes for curiosity!"
      ],
      "outputs": [
        {
          "output_type": "execute_result",
          "execution_count": 21,
          "data": {
            "text/plain": "                  Count of Beneficiaries (Part A)  \\\nAge Range    Sex                                    \n65-69        F                            3796165   \n             M                            3587660   \n70-74        F                            3474502   \n             M                            3048058   \n75-79        F                            2802470   \n             M                            2217672   \n80-84        F                            2411253   \n             M                            1618654   \n85 and above F                            2883371   \n             M                            1369786   \nUnder 65     F                            2789635   \n             M                            3162520   \n\n                  Count of Beneficiaries (Part B)  \\\nAge Range    Sex                                    \n65-69        F                            3268713   \n             M                            2882511   \n70-74        F                            3260090   \n             M                            2715027   \n75-79        F                            2714092   \n             M                            2070720   \n80-84        F                            2357022   \n             M                            1539723   \n85 and above F                            2769346   \n             M                            1270145   \nUnder 65     F                            2475370   \n             M                            2726216   \n\n                  Count of Beneficiaries (Part D)  \nAge Range    Sex                                   \n65-69        F                            2927691  \n             M                            2185535  \n70-74        F                            3010274  \n             M                            2232437  \n75-79        F                            2484169  \n             M                            1619332  \n80-84        F                            2084405  \n             M                            1142275  \n85 and above F                            2351667  \n             M                             864577  \nUnder 65     F                            2497603  \n             M                            2459857  ",
            "text/html": "<div>\n<style scoped>\n    .dataframe tbody tr th:only-of-type {\n        vertical-align: middle;\n    }\n\n    .dataframe tbody tr th {\n        vertical-align: top;\n    }\n\n    .dataframe thead th {\n        text-align: right;\n    }\n</style>\n<table border=\"1\" class=\"dataframe\">\n  <thead>\n    <tr style=\"text-align: right;\">\n      <th></th>\n      <th></th>\n      <th>Count of Beneficiaries (Part A)</th>\n      <th>Count of Beneficiaries (Part B)</th>\n      <th>Count of Beneficiaries (Part D)</th>\n    </tr>\n    <tr>\n      <th>Age Range</th>\n      <th>Sex</th>\n      <th></th>\n      <th></th>\n      <th></th>\n    </tr>\n  </thead>\n  <tbody>\n    <tr>\n      <th rowspan=\"2\" valign=\"top\">65-69</th>\n      <th>F</th>\n      <td>3796165</td>\n      <td>3268713</td>\n      <td>2927691</td>\n    </tr>\n    <tr>\n      <th>M</th>\n      <td>3587660</td>\n      <td>2882511</td>\n      <td>2185535</td>\n    </tr>\n    <tr>\n      <th rowspan=\"2\" valign=\"top\">70-74</th>\n      <th>F</th>\n      <td>3474502</td>\n      <td>3260090</td>\n      <td>3010274</td>\n    </tr>\n    <tr>\n      <th>M</th>\n      <td>3048058</td>\n      <td>2715027</td>\n      <td>2232437</td>\n    </tr>\n    <tr>\n      <th rowspan=\"2\" valign=\"top\">75-79</th>\n      <th>F</th>\n      <td>2802470</td>\n      <td>2714092</td>\n      <td>2484169</td>\n    </tr>\n    <tr>\n      <th>M</th>\n      <td>2217672</td>\n      <td>2070720</td>\n      <td>1619332</td>\n    </tr>\n    <tr>\n      <th rowspan=\"2\" valign=\"top\">80-84</th>\n      <th>F</th>\n      <td>2411253</td>\n      <td>2357022</td>\n      <td>2084405</td>\n    </tr>\n    <tr>\n      <th>M</th>\n      <td>1618654</td>\n      <td>1539723</td>\n      <td>1142275</td>\n    </tr>\n    <tr>\n      <th rowspan=\"2\" valign=\"top\">85 and above</th>\n      <th>F</th>\n      <td>2883371</td>\n      <td>2769346</td>\n      <td>2351667</td>\n    </tr>\n    <tr>\n      <th>M</th>\n      <td>1369786</td>\n      <td>1270145</td>\n      <td>864577</td>\n    </tr>\n    <tr>\n      <th rowspan=\"2\" valign=\"top\">Under 65</th>\n      <th>F</th>\n      <td>2789635</td>\n      <td>2475370</td>\n      <td>2497603</td>\n    </tr>\n    <tr>\n      <th>M</th>\n      <td>3162520</td>\n      <td>2726216</td>\n      <td>2459857</td>\n    </tr>\n  </tbody>\n</table>\n</div>"
          },
          "metadata": {}
        }
      ],
      "execution_count": 21,
      "metadata": {
        "jupyter": {
          "source_hidden": false,
          "outputs_hidden": false
        },
        "nteract": {
          "transient": {
            "deleting": false
          }
        },
        "gather": {
          "logged": 1686855722878
        }
      }
    }
  ],
  "metadata": {
    "kernelspec": {
      "name": "python38-azureml",
      "language": "python",
      "display_name": "Python 3.8 - AzureML"
    },
    "language_info": {
      "name": "python",
      "version": "3.8.5",
      "mimetype": "text/x-python",
      "codemirror_mode": {
        "name": "ipython",
        "version": 3
      },
      "pygments_lexer": "ipython3",
      "nbconvert_exporter": "python",
      "file_extension": ".py"
    },
    "microsoft": {
      "ms_spell_check": {
        "ms_spell_check_language": "en"
      },
      "host": {
        "AzureML": {
          "notebookHasBeenCompleted": true
        }
      }
    },
    "kernel_info": {
      "name": "python38-azureml"
    },
    "nteract": {
      "version": "nteract-front-end@1.0.0"
    }
  },
  "nbformat": 4,
  "nbformat_minor": 2
}