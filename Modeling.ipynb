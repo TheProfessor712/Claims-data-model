{
  "cells": [
    {
      "cell_type": "code",
      "source": [
        "import pandas as pd\r\n",
        "import numpy as np\r\n",
        "import matplotlib.pyplot as plt\r\n",
        "import seaborn as sns\r\n",
        "from sklearn import preprocessing\r\n",
        "from sklearn.model_selection import train_test_split\r\n",
        "from sklearn.model_selection import GridSearchCV, KFold, StratifiedKFold\r\n",
        "from sklearn.linear_model import LogisticRegression\r\n",
        "from sklearn.linear_model import LinearRegression\r\n",
        "from sklearn.svm import SVR\r\n",
        "from sklearn.tree import DecisionTreeRegressor\r\n",
        "from sklearn.neighbors import KNeighborsRegressor\r\n",
        "from sklearn.ensemble import RandomForestRegressor, GradientBoostingRegressor\r\n",
        "from sklearn.metrics import r2_score, mean_squared_error"
      ],
      "outputs": [],
      "execution_count": 1,
      "metadata": {
        "gather": {
          "logged": 1686866801529
        }
      }
    },
    {
      "cell_type": "code",
      "source": [
        "df = pd.read_csv(\"cleaned_chronic_data.csv\")\r\n",
        "df.head()"
      ],
      "outputs": [
        {
          "output_type": "execute_result",
          "execution_count": 2,
          "data": {
            "text/plain": "   BENE_SEX_IDENT_CD  BENE_AGE_CAT_CD  CC_ALZHDMTA  CC_CANCER  CC_CHF  \\\n0                1.0              1.0          0.0        0.0     0.0   \n1                1.0              1.0          0.0        0.0     0.0   \n2                1.0              1.0          0.0        0.0     0.0   \n3                1.0              1.0          0.0        0.0     0.0   \n4                1.0              1.0          0.0        0.0     0.0   \n\n   CC_CHRNKIDN  CC_COPD  CC_DEPRESSN  CC_DIABETES  CC_ISCHMCHT  ...  \\\n0          0.0      0.0          0.0          0.0          0.0  ...   \n1          0.0      0.0          0.0          0.0          0.0  ...   \n2          0.0      0.0          0.0          0.0          0.0  ...   \n3          0.0      0.0          0.0          0.0          0.0  ...   \n4          0.0      0.0          0.0          0.0          0.0  ...   \n\n   AVE_OP_PAY_PB_EQ_12  AVE_OTH_PAY_PB_EQ_12  AVE_CA_VST_PB_EQ_12  \\\n0                278.0                 139.0                1.948   \n1                564.0                 295.0                2.957   \n2                980.0                 444.0                6.070   \n3               1753.0                 860.0                6.105   \n4                851.0                 316.0                7.099   \n\n   AVE_OP_VST_PB_EQ_12  BENE_COUNT_PD_EQ_12  AVE_PDE_CST_PD_EQ_12  \\\n0                1.127             516476.0                2480.0   \n1                2.786             753223.0                3479.0   \n2                3.872               1685.0                2751.0   \n3                6.118               3963.0                3979.0   \n4                3.109              16427.0                2876.0   \n\n   AVE_PDE_PD_EQ_12  Plan_A_Total_Cost  Plan_B_Total_Cost  Plan_D_Total_Cost  \n0            29.415              290.0              890.0             2480.0  \n1            28.795              913.0             1688.0             3479.0  \n2            33.657             3536.0             3064.0             2751.0  \n3            43.839             7164.0             5242.0             3979.0  \n4            34.996             1487.0             3145.0             2876.0  \n\n[5 rows x 35 columns]",
            "text/html": "<div>\n<style scoped>\n    .dataframe tbody tr th:only-of-type {\n        vertical-align: middle;\n    }\n\n    .dataframe tbody tr th {\n        vertical-align: top;\n    }\n\n    .dataframe thead th {\n        text-align: right;\n    }\n</style>\n<table border=\"1\" class=\"dataframe\">\n  <thead>\n    <tr style=\"text-align: right;\">\n      <th></th>\n      <th>BENE_SEX_IDENT_CD</th>\n      <th>BENE_AGE_CAT_CD</th>\n      <th>CC_ALZHDMTA</th>\n      <th>CC_CANCER</th>\n      <th>CC_CHF</th>\n      <th>CC_CHRNKIDN</th>\n      <th>CC_COPD</th>\n      <th>CC_DEPRESSN</th>\n      <th>CC_DIABETES</th>\n      <th>CC_ISCHMCHT</th>\n      <th>...</th>\n      <th>AVE_OP_PAY_PB_EQ_12</th>\n      <th>AVE_OTH_PAY_PB_EQ_12</th>\n      <th>AVE_CA_VST_PB_EQ_12</th>\n      <th>AVE_OP_VST_PB_EQ_12</th>\n      <th>BENE_COUNT_PD_EQ_12</th>\n      <th>AVE_PDE_CST_PD_EQ_12</th>\n      <th>AVE_PDE_PD_EQ_12</th>\n      <th>Plan_A_Total_Cost</th>\n      <th>Plan_B_Total_Cost</th>\n      <th>Plan_D_Total_Cost</th>\n    </tr>\n  </thead>\n  <tbody>\n    <tr>\n      <th>0</th>\n      <td>1.0</td>\n      <td>1.0</td>\n      <td>0.0</td>\n      <td>0.0</td>\n      <td>0.0</td>\n      <td>0.0</td>\n      <td>0.0</td>\n      <td>0.0</td>\n      <td>0.0</td>\n      <td>0.0</td>\n      <td>...</td>\n      <td>278.0</td>\n      <td>139.0</td>\n      <td>1.948</td>\n      <td>1.127</td>\n      <td>516476.0</td>\n      <td>2480.0</td>\n      <td>29.415</td>\n      <td>290.0</td>\n      <td>890.0</td>\n      <td>2480.0</td>\n    </tr>\n    <tr>\n      <th>1</th>\n      <td>1.0</td>\n      <td>1.0</td>\n      <td>0.0</td>\n      <td>0.0</td>\n      <td>0.0</td>\n      <td>0.0</td>\n      <td>0.0</td>\n      <td>0.0</td>\n      <td>0.0</td>\n      <td>0.0</td>\n      <td>...</td>\n      <td>564.0</td>\n      <td>295.0</td>\n      <td>2.957</td>\n      <td>2.786</td>\n      <td>753223.0</td>\n      <td>3479.0</td>\n      <td>28.795</td>\n      <td>913.0</td>\n      <td>1688.0</td>\n      <td>3479.0</td>\n    </tr>\n    <tr>\n      <th>2</th>\n      <td>1.0</td>\n      <td>1.0</td>\n      <td>0.0</td>\n      <td>0.0</td>\n      <td>0.0</td>\n      <td>0.0</td>\n      <td>0.0</td>\n      <td>0.0</td>\n      <td>0.0</td>\n      <td>0.0</td>\n      <td>...</td>\n      <td>980.0</td>\n      <td>444.0</td>\n      <td>6.070</td>\n      <td>3.872</td>\n      <td>1685.0</td>\n      <td>2751.0</td>\n      <td>33.657</td>\n      <td>3536.0</td>\n      <td>3064.0</td>\n      <td>2751.0</td>\n    </tr>\n    <tr>\n      <th>3</th>\n      <td>1.0</td>\n      <td>1.0</td>\n      <td>0.0</td>\n      <td>0.0</td>\n      <td>0.0</td>\n      <td>0.0</td>\n      <td>0.0</td>\n      <td>0.0</td>\n      <td>0.0</td>\n      <td>0.0</td>\n      <td>...</td>\n      <td>1753.0</td>\n      <td>860.0</td>\n      <td>6.105</td>\n      <td>6.118</td>\n      <td>3963.0</td>\n      <td>3979.0</td>\n      <td>43.839</td>\n      <td>7164.0</td>\n      <td>5242.0</td>\n      <td>3979.0</td>\n    </tr>\n    <tr>\n      <th>4</th>\n      <td>1.0</td>\n      <td>1.0</td>\n      <td>0.0</td>\n      <td>0.0</td>\n      <td>0.0</td>\n      <td>0.0</td>\n      <td>0.0</td>\n      <td>0.0</td>\n      <td>0.0</td>\n      <td>0.0</td>\n      <td>...</td>\n      <td>851.0</td>\n      <td>316.0</td>\n      <td>7.099</td>\n      <td>3.109</td>\n      <td>16427.0</td>\n      <td>2876.0</td>\n      <td>34.996</td>\n      <td>1487.0</td>\n      <td>3145.0</td>\n      <td>2876.0</td>\n    </tr>\n  </tbody>\n</table>\n<p>5 rows × 35 columns</p>\n</div>"
          },
          "metadata": {}
        }
      ],
      "execution_count": 2,
      "metadata": {
        "jupyter": {
          "source_hidden": false,
          "outputs_hidden": false
        },
        "nteract": {
          "transient": {
            "deleting": false
          }
        },
        "gather": {
          "logged": 1686866804341
        }
      }
    },
    {
      "cell_type": "markdown",
      "source": [
        "First we isolate the features we want: age, sex, conditions, dual eligibility, but we will drop the multiple condition column (as it is dependent on other columns). We then make a label column."
      ],
      "metadata": {
        "nteract": {
          "transient": {
            "deleting": false
          }
        }
      }
    },
    {
      "cell_type": "code",
      "source": [
        "X = df.iloc[:,0:15]\r\n",
        "X = X.drop(X.columns[13], axis=1).values\r\n",
        "X"
      ],
      "outputs": [
        {
          "output_type": "execute_result",
          "execution_count": 3,
          "data": {
            "text/plain": "array([[1., 1., 0., ..., 0., 0., 0.],\n       [1., 1., 0., ..., 0., 0., 1.],\n       [1., 1., 0., ..., 0., 1., 0.],\n       ...,\n       [2., 6., 1., ..., 1., 0., 1.],\n       [2., 6., 1., ..., 0., 0., 1.],\n       [2., 6., 1., ..., 1., 0., 1.]])"
          },
          "metadata": {}
        }
      ],
      "execution_count": 3,
      "metadata": {
        "jupyter": {
          "source_hidden": false,
          "outputs_hidden": false
        },
        "nteract": {
          "transient": {
            "deleting": false
          }
        },
        "gather": {
          "logged": 1686866806970
        }
      }
    },
    {
      "cell_type": "code",
      "source": [
        "Y = df[\"Plan_D_Total_Cost\"].values\r\n",
        "Y"
      ],
      "outputs": [
        {
          "output_type": "execute_result",
          "execution_count": 4,
          "data": {
            "text/plain": "array([2480., 3479., 2751., ..., 6917., 6945., 8171.])"
          },
          "metadata": {}
        }
      ],
      "execution_count": 4,
      "metadata": {
        "jupyter": {
          "source_hidden": false,
          "outputs_hidden": false
        },
        "nteract": {
          "transient": {
            "deleting": false
          }
        },
        "gather": {
          "logged": 1686866809034
        }
      }
    },
    {
      "cell_type": "code",
      "source": [
        "X_train, X_test, Y_train, Y_test = train_test_split(X, Y, test_size = 0.2, random_state=0)"
      ],
      "outputs": [],
      "execution_count": 5,
      "metadata": {
        "jupyter": {
          "source_hidden": false,
          "outputs_hidden": false
        },
        "nteract": {
          "transient": {
            "deleting": false
          }
        },
        "gather": {
          "logged": 1686866812196
        }
      }
    },
    {
      "cell_type": "code",
      "source": [
        "#Fitting the model, a first quick test\r\n",
        "\r\n",
        "regr = LinearRegression()\r\n",
        "regr.fit (X_train, Y_train)\r\n",
        "\r\n",
        "# The coefficients\r\n",
        "print ('Coefficients: ', regr.coef_)"
      ],
      "outputs": [
        {
          "output_type": "stream",
          "name": "stdout",
          "text": "Coefficients:  [ 131.49575344 -510.27134982 1039.7212298   429.80809546  444.52306368\n  544.67670825  837.74132836  961.1277556  1055.56357961  396.43327908\n  654.97863105  380.13270836 -139.5681478  1852.96636268]\n"
        }
      ],
      "execution_count": 6,
      "metadata": {
        "jupyter": {
          "source_hidden": false,
          "outputs_hidden": false
        },
        "nteract": {
          "transient": {
            "deleting": false
          }
        },
        "gather": {
          "logged": 1686866814108
        }
      }
    },
    {
      "cell_type": "code",
      "source": [
        "#Predictions\r\n",
        "\r\n",
        "Y_hat= regr.predict(X_test)\r\n",
        "\r\n",
        "print(\"Residual sum of squares: %.2f\"\r\n",
        "      % np.mean((Y_hat - Y_test) ** 2))\r\n",
        "\r\n",
        "print('Variance score: %.5f' % regr.score(X_test, Y_test))"
      ],
      "outputs": [
        {
          "output_type": "stream",
          "name": "stdout",
          "text": "Residual sum of squares: 832769.79\nVariance score: 0.78496\n"
        }
      ],
      "execution_count": 7,
      "metadata": {
        "jupyter": {
          "source_hidden": false,
          "outputs_hidden": false
        },
        "nteract": {
          "transient": {
            "deleting": false
          }
        },
        "gather": {
          "logged": 1686866816570
        }
      }
    },
    {
      "cell_type": "markdown",
      "source": [
        "This syncs up with what our pipeline said we should get. Now we will run through several models."
      ],
      "metadata": {
        "nteract": {
          "transient": {
            "deleting": false
          }
        }
      }
    },
    {
      "cell_type": "code",
      "source": [
        "models = [('Linear Regression', LinearRegression()),('Gradient Boosting', GradientBoostingRegressor()), ('Random Forest', RandomForestRegressor())]"
      ],
      "outputs": [],
      "execution_count": 8,
      "metadata": {
        "jupyter": {
          "source_hidden": false,
          "outputs_hidden": false
        },
        "nteract": {
          "transient": {
            "deleting": false
          }
        },
        "gather": {
          "logged": 1686866820837
        }
      }
    },
    {
      "cell_type": "code",
      "source": [
        "for model in models:\r\n",
        "    reg=model[1]\r\n",
        "    reg.fit(X_train,Y_train)\r\n",
        "    prediction = reg.predict(X_test)\r\n",
        "\r\n",
        "    print(model[0])\r\n",
        "    print('R2: ', r2_score(Y_test, prediction))\r\n",
        "    print('RMSE: ', np.sqrt(mean_squared_error(Y_test, prediction)))\r\n",
        "    print('-'*30)\r\n",
        "\r\n",
        "    #model[2]_regr = (model[0], r2_score(Y_test, prediction), np.sqrt(mean_squared_error(Y_test, prediction)))"
      ],
      "outputs": [
        {
          "output_type": "stream",
          "name": "stdout",
          "text": "Linear Regression\nR2:  0.7849608589110498\nRMSE:  912.5622139032246\n------------------------------\nGradient Boosting\nR2:  0.8792003077122509\nRMSE:  683.969345631743\n------------------------------\nRandom Forest\nR2:  0.8715928063937564\nRMSE:  705.1774254918869\n------------------------------\n"
        }
      ],
      "execution_count": 9,
      "metadata": {
        "jupyter": {
          "source_hidden": false,
          "outputs_hidden": false
        },
        "nteract": {
          "transient": {
            "deleting": false
          }
        },
        "gather": {
          "logged": 1686866828337
        }
      }
    },
    {
      "cell_type": "code",
      "source": [
        "#We will save the output to make a table later!\r\n",
        "lin_reg = ('Linear Reg', 0.7849608589110498, 912.5622139032246)\r\n",
        "grad_boost = ('Gradient Boosting', 0.8792003077122509, 683.969345631743)"
      ],
      "outputs": [],
      "execution_count": 12,
      "metadata": {
        "jupyter": {
          "source_hidden": false,
          "outputs_hidden": false
        },
        "nteract": {
          "transient": {
            "deleting": false
          }
        },
        "gather": {
          "logged": 1686866871322
        }
      }
    },
    {
      "cell_type": "markdown",
      "source": [
        "Gradiant boosting looks to be the best from that batch. Now we will look at KNN, Decision Trees, and Random Forests, but this time with some hyperparameter tuning."
      ],
      "metadata": {
        "nteract": {
          "transient": {
            "deleting": false
          }
        }
      }
    },
    {
      "cell_type": "code",
      "source": [
        "params ={'n_neighbors' : [6, 7, 8, 9, 10, 11, 12], 'weights': ['distance'], 'p':[1,2]}\r\n",
        "knn=KNeighborsRegressor()\r\n",
        "gs=GridSearchCV(estimator=knn, param_grid=params, cv=10, n_jobs=-1, scoring='neg_mean_squared_error')\r\n",
        "gs.fit(X_train,Y_train)\r\n",
        "print(gs.best_estimator_)\r\n",
        "knn=gs.best_estimator_\r\n",
        "knn.fit(X_train, Y_train)\r\n",
        "prediction=knn.predict(X_test)\r\n",
        "\r\n",
        "print('-'*30)\r\n",
        "r2=r2_score(Y_test,prediction)\r\n",
        "print('R2: ', r2)\r\n",
        "rmse = np.sqrt(mean_squared_error(Y_test, prediction))\r\n",
        "print('RMSE: ', rmse)\r\n",
        "\r\n",
        "kn = ('KNN', r2, rmse)"
      ],
      "outputs": [
        {
          "output_type": "stream",
          "name": "stdout",
          "text": "KNeighborsRegressor(algorithm='auto', leaf_size=30, metric='minkowski',\n                    metric_params=None, n_jobs=None, n_neighbors=11, p=1,\n                    weights='distance')\n------------------------------\nR2:  0.8576041525998331\nRMSE:  742.5956245844387\n"
        }
      ],
      "execution_count": 10,
      "metadata": {
        "jupyter": {
          "source_hidden": false,
          "outputs_hidden": false
        },
        "nteract": {
          "transient": {
            "deleting": false
          }
        },
        "gather": {
          "logged": 1686866846389
        }
      }
    },
    {
      "cell_type": "code",
      "source": [
        "params = {'criterion': ['mse'],\r\n",
        "     'splitter': ['best', 'random'],\r\n",
        "     'max_depth': [2*n for n in range(1,10)],\r\n",
        "     'max_features': ['auto', 'sqrt'],\r\n",
        "     'min_samples_leaf': [1, 2, 4],\r\n",
        "     'min_samples_split': [2, 5, 10]}\r\n",
        "\r\n",
        "tree = DecisionTreeRegressor()\r\n",
        "gs = GridSearchCV(estimator=tree, param_grid=params, cv=5, n_jobs=-1, scoring='neg_mean_squared_error')\r\n",
        "gs.fit(X_train, Y_train)\r\n",
        "print(gs.best_estimator_)\r\n",
        "\r\n",
        "tree = gs.best_estimator_\r\n",
        "tree.fit(X_train, Y_train)\r\n",
        "prediction=tree.predict(X_test)\r\n",
        "\r\n",
        "print('-'*30)\r\n",
        "r2=r2_score(Y_test,prediction)\r\n",
        "print('R2: ', r2)\r\n",
        "rmse = np.sqrt(mean_squared_error(Y_test, prediction))\r\n",
        "print('RMSE: ', rmse)\r\n",
        "\r\n",
        "dec_tree = ('Decision Tree', r2, rmse)"
      ],
      "outputs": [
        {
          "output_type": "stream",
          "name": "stdout",
          "text": "DecisionTreeRegressor(ccp_alpha=0.0, criterion='mse', max_depth=16,\n                      max_features='auto', max_leaf_nodes=None,\n                      min_impurity_decrease=0.0, min_impurity_split=None,\n                      min_samples_leaf=4, min_samples_split=10,\n                      min_weight_fraction_leaf=0.0, presort='deprecated',\n                      random_state=None, splitter='random')\n------------------------------\nR2:  0.8400275360432958\nRMSE:  787.0935270050246\n"
        }
      ],
      "execution_count": 11,
      "metadata": {
        "jupyter": {
          "source_hidden": false,
          "outputs_hidden": false
        },
        "nteract": {
          "transient": {
            "deleting": false
          }
        },
        "gather": {
          "logged": 1686866857128
        }
      }
    },
    {
      "cell_type": "code",
      "source": [
        "params = {'n_estimators': [1000], 'max_depth': [7,8,9], 'max_features':['auto','sqrt'], 'min_samples_leaf':[3,4,5], 'min_samples_split':[0.01]}\r\n",
        "rfor=RandomForestRegressor()\r\n",
        "gs=GridSearchCV(estimator=rfor,param_grid=params,cv=5, n_jobs=-1, scoring='neg_mean_squared_error')\r\n",
        "gs.fit(X_train, Y_train)\r\n",
        "print(gs.best_estimator_)\r\n",
        "\r\n",
        "rfor=gs.best_estimator_\r\n",
        "rfor.fit(X_train, Y_train)\r\n",
        "prediction = rfor.predict(X_test)\r\n",
        "\r\n",
        "print('-'*30)\r\n",
        "r2=r2_score(Y_test,prediction)\r\n",
        "print('R2: ', r2)\r\n",
        "rmse = np.sqrt(mean_squared_error(Y_test, prediction))\r\n",
        "print('RMSE: ', rmse)\r\n",
        "\r\n",
        "rforest = ('Random Forest', r2, rmse)"
      ],
      "outputs": [
        {
          "output_type": "stream",
          "name": "stdout",
          "text": "RandomForestRegressor(bootstrap=True, ccp_alpha=0.0, criterion='mse',\n                      max_depth=9, max_features='auto', max_leaf_nodes=None,\n                      max_samples=None, min_impurity_decrease=0.0,\n                      min_impurity_split=None, min_samples_leaf=4,\n                      min_samples_split=0.01, min_weight_fraction_leaf=0.0,\n                      n_estimators=1000, n_jobs=None, oob_score=False,\n                      random_state=None, verbose=0, warm_start=False)\n------------------------------\nR2:  0.8032588552383169\nRMSE:  872.8735243004098\n"
        }
      ],
      "execution_count": 13,
      "metadata": {
        "jupyter": {
          "source_hidden": false,
          "outputs_hidden": false
        },
        "nteract": {
          "transient": {
            "deleting": false
          }
        },
        "gather": {
          "logged": 1686867026760
        }
      }
    },
    {
      "cell_type": "code",
      "source": [
        "results = pd.DataFrame([lin_reg,grad_boost,kn,dec_tree,rforest], columns=['model','R2','RMSE'])\r\n",
        "results.sort_values('R2', ascending=False)"
      ],
      "outputs": [
        {
          "output_type": "execute_result",
          "execution_count": 14,
          "data": {
            "text/plain": "               model        R2        RMSE\n1  Gradient Boosting  0.879200  683.969346\n2                KNN  0.857604  742.595625\n3      Decision Tree  0.840028  787.093527\n4      Random Forest  0.803259  872.873524\n0         Linear Reg  0.784961  912.562214",
            "text/html": "<div>\n<style scoped>\n    .dataframe tbody tr th:only-of-type {\n        vertical-align: middle;\n    }\n\n    .dataframe tbody tr th {\n        vertical-align: top;\n    }\n\n    .dataframe thead th {\n        text-align: right;\n    }\n</style>\n<table border=\"1\" class=\"dataframe\">\n  <thead>\n    <tr style=\"text-align: right;\">\n      <th></th>\n      <th>model</th>\n      <th>R2</th>\n      <th>RMSE</th>\n    </tr>\n  </thead>\n  <tbody>\n    <tr>\n      <th>1</th>\n      <td>Gradient Boosting</td>\n      <td>0.879200</td>\n      <td>683.969346</td>\n    </tr>\n    <tr>\n      <th>2</th>\n      <td>KNN</td>\n      <td>0.857604</td>\n      <td>742.595625</td>\n    </tr>\n    <tr>\n      <th>3</th>\n      <td>Decision Tree</td>\n      <td>0.840028</td>\n      <td>787.093527</td>\n    </tr>\n    <tr>\n      <th>4</th>\n      <td>Random Forest</td>\n      <td>0.803259</td>\n      <td>872.873524</td>\n    </tr>\n    <tr>\n      <th>0</th>\n      <td>Linear Reg</td>\n      <td>0.784961</td>\n      <td>912.562214</td>\n    </tr>\n  </tbody>\n</table>\n</div>"
          },
          "metadata": {}
        }
      ],
      "execution_count": 14,
      "metadata": {
        "jupyter": {
          "source_hidden": false,
          "outputs_hidden": false
        },
        "nteract": {
          "transient": {
            "deleting": false
          }
        },
        "gather": {
          "logged": 1686867733535
        }
      }
    },
    {
      "cell_type": "markdown",
      "source": [
        "Looking at the above outputs, we see that the Gradient Boosting model is the best (highest R2, low RMSE, quick computation time). As a sanity check, we will also run the data through Azure's AML and see what that claims the best model is!"
      ],
      "metadata": {
        "nteract": {
          "transient": {
            "deleting": false
          }
        }
      }
    },
    {
      "cell_type": "markdown",
      "source": [
        "We will make a new data asset in our blob storage for this task:"
      ],
      "metadata": {
        "nteract": {
          "transient": {
            "deleting": false
          }
        }
      }
    },
    {
      "cell_type": "code",
      "source": [
        "chronic_aml_table = df.iloc[:,0:15]\r\n",
        "chronic_aml_table['Drug_Cost']=df['Plan_D_Total_Cost']\r\n",
        "chronic_aml_table = chronic_aml_table.drop(chronic_aml_table.columns[13], axis=1)\r\n",
        "chronic_aml_table.head()"
      ],
      "outputs": [],
      "execution_count": null,
      "metadata": {
        "jupyter": {
          "source_hidden": false,
          "outputs_hidden": false
        },
        "nteract": {
          "transient": {
            "deleting": false
          }
        },
        "gather": {
          "logged": 1686867739134
        }
      }
    },
    {
      "cell_type": "code",
      "source": [
        "chronic_aml_table.to_csv(\"chronic_aml_data.csv\", index=False)"
      ],
      "outputs": [],
      "execution_count": 16,
      "metadata": {
        "jupyter": {
          "source_hidden": false,
          "outputs_hidden": false
        },
        "nteract": {
          "transient": {
            "deleting": false
          }
        },
        "gather": {
          "logged": 1686867745547
        }
      }
    },
    {
      "cell_type": "code",
      "source": [
        "#Connect to workspace\r\n",
        "subscription_id = \"<MASKED>\"\r\n",
        "resource_group = \"<MASKED>\"\r\n",
        "workspace = \"<MASKED>\"\r\n",
        "\r\n",
        "from azure.ai.ml import MLClient\r\n",
        "from azure.ai.ml.entities import Data\r\n",
        "from azure.ai.ml.constants import AssetTypes\r\n",
        "from azure.identity import DefaultAzureCredential\r\n",
        "\r\n",
        "# get a handle to the workspace\r\n",
        "ml_client = MLClient(\r\n",
        "    DefaultAzureCredential(), subscription_id, resource_group, workspace\r\n",
        ")"
      ],
      "outputs": [],
      "execution_count": 17,
      "metadata": {
        "jupyter": {
          "source_hidden": false,
          "outputs_hidden": false
        },
        "nteract": {
          "transient": {
            "deleting": false
          }
        },
        "gather": {
          "logged": 1686607237759
        }
      }
    },
    {
      "cell_type": "code",
      "source": [
        "path = \"azureml://<MASKED>/chronic_aml_data.csv\"\r\n",
        "my_data = Data(\r\n",
        "    path=path,\r\n",
        "    type=AssetTypes.URI_FILE,\r\n",
        "    description=\"Data for aml\",\r\n",
        "    name=\"chronic-aml-data\",\r\n",
        "    version=\"1\",\r\n",
        ")\r\n",
        "\r\n",
        "ml_client.data.create_or_update(my_data)"
      ],
      "outputs": [],
      "execution_count": null,
      "metadata": {
        "jupyter": {
          "source_hidden": false,
          "outputs_hidden": false
        },
        "nteract": {
          "transient": {
            "deleting": false
          }
        },
        "gather": {
          "logged": 1686607241442
        }
      }
    }
  ],
  "metadata": {
    "kernelspec": {
      "name": "python38-azureml",
      "language": "python",
      "display_name": "Python 3.8 - AzureML"
    },
    "language_info": {
      "name": "python",
      "version": "3.8.5",
      "mimetype": "text/x-python",
      "codemirror_mode": {
        "name": "ipython",
        "version": 3
      },
      "pygments_lexer": "ipython3",
      "nbconvert_exporter": "python",
      "file_extension": ".py"
    },
    "microsoft": {
      "ms_spell_check": {
        "ms_spell_check_language": "en"
      },
      "host": {
        "AzureML": {
          "notebookHasBeenCompleted": true
        }
      }
    },
    "kernel_info": {
      "name": "python38-azureml"
    },
    "nteract": {
      "version": "nteract-front-end@1.0.0"
    }
  },
  "nbformat": 4,
  "nbformat_minor": 2
}